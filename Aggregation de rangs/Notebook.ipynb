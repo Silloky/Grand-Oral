{
 "cells": [
  {
   "cell_type": "markdown",
   "id": "c91133a1",
   "metadata": {},
   "source": [
    "## Agrégation de rangs avec la géométrie dans l'espace\n",
    "\n",
    "L'objectif de cette méthode est de donner non seulement une visualisation, mais aussi une relation qui permet, à partir de 3 classements et de pondération respectives, d'obtenir un classement final."
   ]
  },
  {
   "cell_type": "markdown",
   "id": "893d3ab0",
   "metadata": {},
   "source": [
    "### 1. Figure et notations"
   ]
  },
  {
   "cell_type": "markdown",
   "id": "292a2550",
   "metadata": {},
   "source": [
    "La figure utilisée est donc une pyramide de sommet $O(0;0;0)$, où chaque axe correspond à un classement. La base de la pyramide correspond aux \"pires\" éléments théoriques, et on introduit la distance $\\beta$, qui définit la distance entre $O$ et le plan des meilleurs ; son utilité sera discutée plus tard.\n",
    "\n",
    "On considère $n$ éléments. Les points $A(x_A;0;0)$, $B(0;y_B;0)$ et $C(0;0;z_C)$ représentent la position d'un élément unique sur les trois classements distincts.\n",
    "Ces points forment un plan noté $T$ et de vecteur normal $\\vec{n}\\begin{pmatrix}a\\\\b\\\\c\\end{pmatrix}$\n",
    "\n",
    "On ajoute une droite $d$, passant par $O$ et dont le vecteur directeur $\\vec{u}\\begin{pmatrix}\\lambda_A\\\\\\lambda_B\\\\\\lambda_C\\end{pmatrix}$; $\\lambda_A$, $\\lambda_B$ et $\\lambda_C$ étant les pondérations de chacun des classements.\n",
    "Pour faciliter les calculs, on pose :\n",
    "$$\\lambda_A, \\lambda_B, \\lambda_C \\in [0;1]\\\\\\lambda_A+\\lambda_B+\\lambda_C=1$$\n",
    "\n",
    "On note $I$ le point d'intersection de $d$ et $T$, et $f$ la distance $OI$."
   ]
  },
  {
   "cell_type": "code",
   "execution_count": 6,
   "id": "ecdf39d4",
   "metadata": {},
   "outputs": [
    {
     "data": {
      "application/vnd.plotly.v1+json": {
       "config": {
        "plotlyServerURL": "https://plot.ly"
       },
       "data": [
        {
         "line": {
          "color": "lightblue",
          "width": 3
         },
         "mode": "lines",
         "showlegend": false,
         "type": "scatter3d",
         "x": [
          0,
          20
         ],
         "y": [
          0,
          0
         ],
         "z": [
          0,
          0
         ]
        },
        {
         "line": {
          "color": "lightblue",
          "width": 3
         },
         "mode": "lines",
         "showlegend": false,
         "type": "scatter3d",
         "x": [
          0,
          0
         ],
         "y": [
          0,
          20
         ],
         "z": [
          0,
          0
         ]
        },
        {
         "line": {
          "color": "lightblue",
          "width": 3
         },
         "mode": "lines",
         "showlegend": false,
         "type": "scatter3d",
         "x": [
          0,
          0
         ],
         "y": [
          0,
          0
         ],
         "z": [
          0,
          20
         ]
        },
        {
         "line": {
          "color": "lightblue",
          "width": 3
         },
         "mode": "lines",
         "showlegend": false,
         "type": "scatter3d",
         "x": [
          20,
          0
         ],
         "y": [
          0,
          20
         ],
         "z": [
          0,
          0
         ]
        },
        {
         "line": {
          "color": "lightblue",
          "width": 3
         },
         "mode": "lines",
         "showlegend": false,
         "type": "scatter3d",
         "x": [
          0,
          0
         ],
         "y": [
          20,
          0
         ],
         "z": [
          0,
          20
         ]
        },
        {
         "line": {
          "color": "lightblue",
          "width": 3
         },
         "mode": "lines",
         "showlegend": false,
         "type": "scatter3d",
         "x": [
          0,
          20
         ],
         "y": [
          0,
          0
         ],
         "z": [
          20,
          0
         ]
        },
        {
         "line": {
          "color": "blue",
          "width": 2
         },
         "mode": "lines",
         "name": "Plan base",
         "type": "scatter3d",
         "x": {
          "bdata": "FAAAFA==",
          "dtype": "i1"
         },
         "y": {
          "bdata": "ABQAAA==",
          "dtype": "i1"
         },
         "z": {
          "bdata": "AAAUAA==",
          "dtype": "i1"
         }
        },
        {
         "marker": {
          "color": "red",
          "size": 5
         },
         "mode": "markers+text",
         "name": "Point A",
         "text": [
          "A"
         ],
         "textposition": "top center",
         "type": "scatter3d",
         "x": [
          8
         ],
         "y": [
          0
         ],
         "z": [
          0
         ]
        },
        {
         "marker": {
          "color": "orange",
          "size": 5
         },
         "mode": "markers+text",
         "name": "Point B",
         "text": [
          "B"
         ],
         "textposition": "top center",
         "type": "scatter3d",
         "x": [
          0
         ],
         "y": [
          12
         ],
         "z": [
          0
         ]
        },
        {
         "marker": {
          "color": "purple",
          "size": 5
         },
         "mode": "markers+text",
         "name": "Point C",
         "text": [
          "C"
         ],
         "textposition": "top center",
         "type": "scatter3d",
         "x": [
          0
         ],
         "y": [
          0
         ],
         "z": [
          15
         ]
        },
        {
         "line": {
          "color": "black",
          "width": 2
         },
         "mode": "lines",
         "name": "Plan T",
         "type": "scatter3d",
         "x": {
          "bdata": "CAAACA==",
          "dtype": "i1"
         },
         "y": {
          "bdata": "AAwAAA==",
          "dtype": "i1"
         },
         "z": {
          "bdata": "AAAPAA==",
          "dtype": "i1"
         }
        },
        {
         "line": {
          "color": "green",
          "dash": "dash",
          "width": 2
         },
         "mode": "lines",
         "name": "Droite d",
         "type": "scatter3d",
         "x": {
          "bdata": "AAAAAAAA8L8cx3Ecx3HsvzmO4ziO4+i/VlVVVVVV5b9yHMdxHMfhvxzHcRzHcdy/VlVVVVVV1b8gx3Ecx3HMvyDHcRzHcby/AAAAAAAAAAAgx3Ecx3G8PxjHcRzHccw/VFVVVVVV1T8cx3Ecx3HcP3Acx3Ecx+E/VFVVVVVV5T84juM4juPoPxzHcRzHcew/AAAAAAAA8D9yHMdxHMfxP+Q4juM4jvM/VFVVVVVV9T/GcRzHcRz3PziO4ziO4/g/qqqqqqqq+j8cx3Ecx3H8P47jOI7jOP4/AAAAAAAAAEA4juM4juMAQHEcx3EcxwFAqqqqqqqqAkDjOI7jOI4DQBzHcRzHcQRAVVVVVVVVBUCO4ziO4zgGQMdxHMdxHAdAAAAAAAAACEA4juM4juMIQHIcx3EcxwlAqqqqqqqqCkDkOI7jOI4LQBzHcRzHcQxAVFVVVVVVDUCO4ziO4zgOQMZxHMdxHA9AAAAAAAAAEEAcx3Ecx3EQQDmO4ziO4xBAVVVVVVVVEUBxHMdxHMcRQI7jOI7jOBJAqqqqqqqqEkDHcRzHcRwTQOM4juM4jhNAAAAAAAAAFEAcx3Ecx3EUQDiO4ziO4xRAVVVVVVVVFUBxHMdxHMcVQI7jOI7jOBZAqqqqqqqqFkDHcRzHcRwXQOM4juM4jhdAAAAAAAAAGEAcx3Ecx3EYQDiO4ziO4xhAVVVVVVVVGUBxHMdxHMcZQI7jOI7jOBpAqqqqqqqqGkDHcRzHcRwbQOM4juM4jhtAAAAAAAAAHEAcx3Ecx3EcQDiO4ziO4xxAVFVVVVVVHUByHMdxHMcdQI7jOI7jOB5AqqqqqqqqHkDGcRzHcRwfQOQ4juM4jh9AAAAAAAAAIECO4ziO4zggQBzHcRzHcSBAqqqqqqqqIEA5juM4juMgQMdxHMdxHCFAVVVVVVVVIUDjOI7jOI4hQHEcx3EcxyFAAAAAAAAAIkCO4ziO4zgiQBzHcRzHcSJAqqqqqqqqIkA5juM4juMiQMdxHMdxHCNAVVVVVVVVI0DjOI7jOI4jQHEcx3EcxyNAAAAAAAAAJEA=",
          "dtype": "f8"
         },
         "y": {
          "bdata": "AAAAAAAAAMAcx3Ecx3H8vzmO4ziO4/i/VlVVVVVV9b9yHMdxHMfxvxzHcRzHcey/VlVVVVVV5b8gx3Ecx3HcvyDHcRzHccy/AAAAAAAAAAAgx3Ecx3HMPxjHcRzHcdw/VFVVVVVV5T8cx3Ecx3HsP3Acx3Ecx/E/VFVVVVVV9T84juM4juP4PxzHcRzHcfw/AAAAAAAAAEByHMdxHMcBQOQ4juM4jgNAVFVVVVVVBUDGcRzHcRwHQDiO4ziO4whAqqqqqqqqCkAcx3Ecx3EMQI7jOI7jOA5AAAAAAAAAEEA4juM4juMQQHEcx3EcxxFAqqqqqqqqEkDjOI7jOI4TQBzHcRzHcRRAVVVVVVVVFUCO4ziO4zgWQMdxHMdxHBdAAAAAAAAAGEA4juM4juMYQHIcx3EcxxlAqqqqqqqqGkDkOI7jOI4bQBzHcRzHcRxAVFVVVVVVHUCO4ziO4zgeQMZxHMdxHB9AAAAAAAAAIEAcx3Ecx3EgQDmO4ziO4yBAVVVVVVVVIUBxHMdxHMchQI7jOI7jOCJAqqqqqqqqIkDHcRzHcRwjQOM4juM4jiNAAAAAAAAAJEAcx3Ecx3EkQDiO4ziO4yRAVVVVVVVVJUBxHMdxHMclQI7jOI7jOCZAqqqqqqqqJkDHcRzHcRwnQOM4juM4jidAAAAAAAAAKEAcx3Ecx3EoQDiO4ziO4yhAVVVVVVVVKUBxHMdxHMcpQI7jOI7jOCpAqqqqqqqqKkDHcRzHcRwrQOM4juM4jitAAAAAAAAALEAcx3Ecx3EsQDiO4ziO4yxAVFVVVVVVLUByHMdxHMctQI7jOI7jOC5AqqqqqqqqLkDGcRzHcRwvQOQ4juM4ji9AAAAAAAAAMECO4ziO4zgwQBzHcRzHcTBAqqqqqqqqMEA5juM4juMwQMdxHMdxHDFAVVVVVVVVMUDjOI7jOI4xQHEcx3EcxzFAAAAAAAAAMkCO4ziO4zgyQBzHcRzHcTJAqqqqqqqqMkA5juM4juMyQMdxHMdxHDNAVVVVVVVVM0DjOI7jOI4zQHEcx3EcxzNAAAAAAAAANEA=",
          "dtype": "f8"
         },
         "z": {
          "bdata": "AAAAAAAACMBVVVVVVVUFwKuqqqqqqgLAAAAAAAAAAMCrqqqqqqr6v1VVVVVVVfW/AAAAAAAA8L9YVVVVVVXlv1hVVVVVVdW/AAAAAAAAAABYVVVVVVXVP1JVVVVVVeU//v//////7z9VVVVVVVX1P6iqqqqqqvo//v///////z+qqqqqqqoCQFVVVVVVVQVAAAAAAAAACECrqqqqqqoKQFZVVVVVVQ1A/v//////D0BUVVVVVVURQKqqqqqqqhJAAAAAAAAAFEBVVVVVVVUVQKqqqqqqqhZAAAAAAAAAGEBUVVVVVVUZQKqqqqqqqhpA////////G0BUVVVVVVUdQKqqqqqqqh5AAAAAAAAAIECqqqqqqqogQFVVVVVVVSFAAAAAAAAAIkCqqqqqqqoiQFZVVVVVVSNAAAAAAAAAJECrqqqqqqokQFVVVVVVVSVA////////JUCqqqqqqqomQFRVVVVVVSdAAAAAAAAAKECqqqqqqqooQFZVVVVVVSlAAAAAAAAAKkCqqqqqqqoqQFVVVVVVVStA////////K0CqqqqqqqosQFRVVVVVVS1AAAAAAAAALkCqqqqqqqouQFRVVVVVVS9AAAAAAAAAMEBVVVVVVVUwQKqqqqqqqjBAAAAAAAAAMUBVVVVVVVUxQKqqqqqqqjFAAAAAAAAAMkBVVVVVVVUyQKqqqqqqqjJAAAAAAAAAM0BVVVVVVVUzQKqqqqqqqjNAAAAAAAAANEBVVVVVVVU0QKqqqqqqqjRAAAAAAAAANUBVVVVVVVU1QKqqqqqqqjVA////////NUBWVVVVVVU2QKqqqqqqqjZAAAAAAAAAN0BUVVVVVVU3QKuqqqqqqjdAAAAAAAAAOEBVVVVVVVU4QKqqqqqqqjhA////////OEBWVVVVVVU5QKqqqqqqqjlAAAAAAAAAOkBUVVVVVVU6QKqqqqqqqjpAAAAAAAAAO0BVVVVVVVU7QKqqqqqqqjtA////////O0BWVVVVVVU8QKqqqqqqqjxAAAAAAAAAPUBUVVVVVVU9QKqqqqqqqj1AAAAAAAAAPkA=",
          "dtype": "f8"
         }
        },
        {
         "marker": {
          "color": "black",
          "size": 5
         },
         "mode": "markers+text",
         "name": "Intersection I",
         "text": [
          "I"
         ],
         "textposition": "top center",
         "type": "scatter3d",
         "x": [
          2.0338983050847457
         ],
         "y": [
          4.067796610169491
         ],
         "z": [
          6.101694915254237
         ]
        },
        {
         "marker": {
          "color": "green",
          "size": 6
         },
         "mode": "markers+text",
         "name": "Origine O",
         "text": [
          "O"
         ],
         "textposition": "bottom right",
         "type": "scatter3d",
         "x": [
          0
         ],
         "y": [
          0
         ],
         "z": [
          0
         ]
        }
       ],
       "layout": {
        "height": 800,
        "scene": {
         "aspectmode": "cube",
         "xaxis": {
          "title": {
           "text": "MP"
          }
         },
         "yaxis": {
          "title": {
           "text": "PC"
          }
         },
         "zaxis": {
          "title": {
           "text": "PSI"
          }
         }
        },
        "template": {
         "data": {
          "bar": [
           {
            "error_x": {
             "color": "#2a3f5f"
            },
            "error_y": {
             "color": "#2a3f5f"
            },
            "marker": {
             "line": {
              "color": "#E5ECF6",
              "width": 0.5
             },
             "pattern": {
              "fillmode": "overlay",
              "size": 10,
              "solidity": 0.2
             }
            },
            "type": "bar"
           }
          ],
          "barpolar": [
           {
            "marker": {
             "line": {
              "color": "#E5ECF6",
              "width": 0.5
             },
             "pattern": {
              "fillmode": "overlay",
              "size": 10,
              "solidity": 0.2
             }
            },
            "type": "barpolar"
           }
          ],
          "carpet": [
           {
            "aaxis": {
             "endlinecolor": "#2a3f5f",
             "gridcolor": "white",
             "linecolor": "white",
             "minorgridcolor": "white",
             "startlinecolor": "#2a3f5f"
            },
            "baxis": {
             "endlinecolor": "#2a3f5f",
             "gridcolor": "white",
             "linecolor": "white",
             "minorgridcolor": "white",
             "startlinecolor": "#2a3f5f"
            },
            "type": "carpet"
           }
          ],
          "choropleth": [
           {
            "colorbar": {
             "outlinewidth": 0,
             "ticks": ""
            },
            "type": "choropleth"
           }
          ],
          "contour": [
           {
            "colorbar": {
             "outlinewidth": 0,
             "ticks": ""
            },
            "colorscale": [
             [
              0,
              "#0d0887"
             ],
             [
              0.1111111111111111,
              "#46039f"
             ],
             [
              0.2222222222222222,
              "#7201a8"
             ],
             [
              0.3333333333333333,
              "#9c179e"
             ],
             [
              0.4444444444444444,
              "#bd3786"
             ],
             [
              0.5555555555555556,
              "#d8576b"
             ],
             [
              0.6666666666666666,
              "#ed7953"
             ],
             [
              0.7777777777777778,
              "#fb9f3a"
             ],
             [
              0.8888888888888888,
              "#fdca26"
             ],
             [
              1,
              "#f0f921"
             ]
            ],
            "type": "contour"
           }
          ],
          "contourcarpet": [
           {
            "colorbar": {
             "outlinewidth": 0,
             "ticks": ""
            },
            "type": "contourcarpet"
           }
          ],
          "heatmap": [
           {
            "colorbar": {
             "outlinewidth": 0,
             "ticks": ""
            },
            "colorscale": [
             [
              0,
              "#0d0887"
             ],
             [
              0.1111111111111111,
              "#46039f"
             ],
             [
              0.2222222222222222,
              "#7201a8"
             ],
             [
              0.3333333333333333,
              "#9c179e"
             ],
             [
              0.4444444444444444,
              "#bd3786"
             ],
             [
              0.5555555555555556,
              "#d8576b"
             ],
             [
              0.6666666666666666,
              "#ed7953"
             ],
             [
              0.7777777777777778,
              "#fb9f3a"
             ],
             [
              0.8888888888888888,
              "#fdca26"
             ],
             [
              1,
              "#f0f921"
             ]
            ],
            "type": "heatmap"
           }
          ],
          "histogram": [
           {
            "marker": {
             "pattern": {
              "fillmode": "overlay",
              "size": 10,
              "solidity": 0.2
             }
            },
            "type": "histogram"
           }
          ],
          "histogram2d": [
           {
            "colorbar": {
             "outlinewidth": 0,
             "ticks": ""
            },
            "colorscale": [
             [
              0,
              "#0d0887"
             ],
             [
              0.1111111111111111,
              "#46039f"
             ],
             [
              0.2222222222222222,
              "#7201a8"
             ],
             [
              0.3333333333333333,
              "#9c179e"
             ],
             [
              0.4444444444444444,
              "#bd3786"
             ],
             [
              0.5555555555555556,
              "#d8576b"
             ],
             [
              0.6666666666666666,
              "#ed7953"
             ],
             [
              0.7777777777777778,
              "#fb9f3a"
             ],
             [
              0.8888888888888888,
              "#fdca26"
             ],
             [
              1,
              "#f0f921"
             ]
            ],
            "type": "histogram2d"
           }
          ],
          "histogram2dcontour": [
           {
            "colorbar": {
             "outlinewidth": 0,
             "ticks": ""
            },
            "colorscale": [
             [
              0,
              "#0d0887"
             ],
             [
              0.1111111111111111,
              "#46039f"
             ],
             [
              0.2222222222222222,
              "#7201a8"
             ],
             [
              0.3333333333333333,
              "#9c179e"
             ],
             [
              0.4444444444444444,
              "#bd3786"
             ],
             [
              0.5555555555555556,
              "#d8576b"
             ],
             [
              0.6666666666666666,
              "#ed7953"
             ],
             [
              0.7777777777777778,
              "#fb9f3a"
             ],
             [
              0.8888888888888888,
              "#fdca26"
             ],
             [
              1,
              "#f0f921"
             ]
            ],
            "type": "histogram2dcontour"
           }
          ],
          "mesh3d": [
           {
            "colorbar": {
             "outlinewidth": 0,
             "ticks": ""
            },
            "type": "mesh3d"
           }
          ],
          "parcoords": [
           {
            "line": {
             "colorbar": {
              "outlinewidth": 0,
              "ticks": ""
             }
            },
            "type": "parcoords"
           }
          ],
          "pie": [
           {
            "automargin": true,
            "type": "pie"
           }
          ],
          "scatter": [
           {
            "fillpattern": {
             "fillmode": "overlay",
             "size": 10,
             "solidity": 0.2
            },
            "type": "scatter"
           }
          ],
          "scatter3d": [
           {
            "line": {
             "colorbar": {
              "outlinewidth": 0,
              "ticks": ""
             }
            },
            "marker": {
             "colorbar": {
              "outlinewidth": 0,
              "ticks": ""
             }
            },
            "type": "scatter3d"
           }
          ],
          "scattercarpet": [
           {
            "marker": {
             "colorbar": {
              "outlinewidth": 0,
              "ticks": ""
             }
            },
            "type": "scattercarpet"
           }
          ],
          "scattergeo": [
           {
            "marker": {
             "colorbar": {
              "outlinewidth": 0,
              "ticks": ""
             }
            },
            "type": "scattergeo"
           }
          ],
          "scattergl": [
           {
            "marker": {
             "colorbar": {
              "outlinewidth": 0,
              "ticks": ""
             }
            },
            "type": "scattergl"
           }
          ],
          "scattermap": [
           {
            "marker": {
             "colorbar": {
              "outlinewidth": 0,
              "ticks": ""
             }
            },
            "type": "scattermap"
           }
          ],
          "scattermapbox": [
           {
            "marker": {
             "colorbar": {
              "outlinewidth": 0,
              "ticks": ""
             }
            },
            "type": "scattermapbox"
           }
          ],
          "scatterpolar": [
           {
            "marker": {
             "colorbar": {
              "outlinewidth": 0,
              "ticks": ""
             }
            },
            "type": "scatterpolar"
           }
          ],
          "scatterpolargl": [
           {
            "marker": {
             "colorbar": {
              "outlinewidth": 0,
              "ticks": ""
             }
            },
            "type": "scatterpolargl"
           }
          ],
          "scatterternary": [
           {
            "marker": {
             "colorbar": {
              "outlinewidth": 0,
              "ticks": ""
             }
            },
            "type": "scatterternary"
           }
          ],
          "surface": [
           {
            "colorbar": {
             "outlinewidth": 0,
             "ticks": ""
            },
            "colorscale": [
             [
              0,
              "#0d0887"
             ],
             [
              0.1111111111111111,
              "#46039f"
             ],
             [
              0.2222222222222222,
              "#7201a8"
             ],
             [
              0.3333333333333333,
              "#9c179e"
             ],
             [
              0.4444444444444444,
              "#bd3786"
             ],
             [
              0.5555555555555556,
              "#d8576b"
             ],
             [
              0.6666666666666666,
              "#ed7953"
             ],
             [
              0.7777777777777778,
              "#fb9f3a"
             ],
             [
              0.8888888888888888,
              "#fdca26"
             ],
             [
              1,
              "#f0f921"
             ]
            ],
            "type": "surface"
           }
          ],
          "table": [
           {
            "cells": {
             "fill": {
              "color": "#EBF0F8"
             },
             "line": {
              "color": "white"
             }
            },
            "header": {
             "fill": {
              "color": "#C8D4E3"
             },
             "line": {
              "color": "white"
             }
            },
            "type": "table"
           }
          ]
         },
         "layout": {
          "annotationdefaults": {
           "arrowcolor": "#2a3f5f",
           "arrowhead": 0,
           "arrowwidth": 1
          },
          "autotypenumbers": "strict",
          "coloraxis": {
           "colorbar": {
            "outlinewidth": 0,
            "ticks": ""
           }
          },
          "colorscale": {
           "diverging": [
            [
             0,
             "#8e0152"
            ],
            [
             0.1,
             "#c51b7d"
            ],
            [
             0.2,
             "#de77ae"
            ],
            [
             0.3,
             "#f1b6da"
            ],
            [
             0.4,
             "#fde0ef"
            ],
            [
             0.5,
             "#f7f7f7"
            ],
            [
             0.6,
             "#e6f5d0"
            ],
            [
             0.7,
             "#b8e186"
            ],
            [
             0.8,
             "#7fbc41"
            ],
            [
             0.9,
             "#4d9221"
            ],
            [
             1,
             "#276419"
            ]
           ],
           "sequential": [
            [
             0,
             "#0d0887"
            ],
            [
             0.1111111111111111,
             "#46039f"
            ],
            [
             0.2222222222222222,
             "#7201a8"
            ],
            [
             0.3333333333333333,
             "#9c179e"
            ],
            [
             0.4444444444444444,
             "#bd3786"
            ],
            [
             0.5555555555555556,
             "#d8576b"
            ],
            [
             0.6666666666666666,
             "#ed7953"
            ],
            [
             0.7777777777777778,
             "#fb9f3a"
            ],
            [
             0.8888888888888888,
             "#fdca26"
            ],
            [
             1,
             "#f0f921"
            ]
           ],
           "sequentialminus": [
            [
             0,
             "#0d0887"
            ],
            [
             0.1111111111111111,
             "#46039f"
            ],
            [
             0.2222222222222222,
             "#7201a8"
            ],
            [
             0.3333333333333333,
             "#9c179e"
            ],
            [
             0.4444444444444444,
             "#bd3786"
            ],
            [
             0.5555555555555556,
             "#d8576b"
            ],
            [
             0.6666666666666666,
             "#ed7953"
            ],
            [
             0.7777777777777778,
             "#fb9f3a"
            ],
            [
             0.8888888888888888,
             "#fdca26"
            ],
            [
             1,
             "#f0f921"
            ]
           ]
          },
          "colorway": [
           "#636efa",
           "#EF553B",
           "#00cc96",
           "#ab63fa",
           "#FFA15A",
           "#19d3f3",
           "#FF6692",
           "#B6E880",
           "#FF97FF",
           "#FECB52"
          ],
          "font": {
           "color": "#2a3f5f"
          },
          "geo": {
           "bgcolor": "white",
           "lakecolor": "white",
           "landcolor": "#E5ECF6",
           "showlakes": true,
           "showland": true,
           "subunitcolor": "white"
          },
          "hoverlabel": {
           "align": "left"
          },
          "hovermode": "closest",
          "mapbox": {
           "style": "light"
          },
          "paper_bgcolor": "white",
          "plot_bgcolor": "#E5ECF6",
          "polar": {
           "angularaxis": {
            "gridcolor": "white",
            "linecolor": "white",
            "ticks": ""
           },
           "bgcolor": "#E5ECF6",
           "radialaxis": {
            "gridcolor": "white",
            "linecolor": "white",
            "ticks": ""
           }
          },
          "scene": {
           "xaxis": {
            "backgroundcolor": "#E5ECF6",
            "gridcolor": "white",
            "gridwidth": 2,
            "linecolor": "white",
            "showbackground": true,
            "ticks": "",
            "zerolinecolor": "white"
           },
           "yaxis": {
            "backgroundcolor": "#E5ECF6",
            "gridcolor": "white",
            "gridwidth": 2,
            "linecolor": "white",
            "showbackground": true,
            "ticks": "",
            "zerolinecolor": "white"
           },
           "zaxis": {
            "backgroundcolor": "#E5ECF6",
            "gridcolor": "white",
            "gridwidth": 2,
            "linecolor": "white",
            "showbackground": true,
            "ticks": "",
            "zerolinecolor": "white"
           }
          },
          "shapedefaults": {
           "line": {
            "color": "#2a3f5f"
           }
          },
          "ternary": {
           "aaxis": {
            "gridcolor": "white",
            "linecolor": "white",
            "ticks": ""
           },
           "baxis": {
            "gridcolor": "white",
            "linecolor": "white",
            "ticks": ""
           },
           "bgcolor": "#E5ECF6",
           "caxis": {
            "gridcolor": "white",
            "linecolor": "white",
            "ticks": ""
           }
          },
          "title": {
           "x": 0.05
          },
          "xaxis": {
           "automargin": true,
           "gridcolor": "white",
           "linecolor": "white",
           "ticks": "",
           "title": {
            "standoff": 15
           },
           "zerolinecolor": "white",
           "zerolinewidth": 2
          },
          "yaxis": {
           "automargin": true,
           "gridcolor": "white",
           "linecolor": "white",
           "ticks": "",
           "title": {
            "standoff": 15
           },
           "zerolinecolor": "white",
           "zerolinewidth": 2
          }
         }
        },
        "title": {
         "text": "Pyramide-support du raisonnement"
        },
        "width": 900
       }
      }
     },
     "metadata": {},
     "output_type": "display_data"
    }
   ],
   "source": [
    "# Traçage de la pyramide-support\n",
    "import numpy as np\n",
    "import plotly.graph_objects as go\n",
    "import pandas as pd\n",
    "import math\n",
    "\n",
    "# Sommets pyramide\n",
    "MP = np.array([20, 0, 0])\n",
    "PC = np.array([0, 20, 0])\n",
    "PSI = np.array([0, 0, 20])\n",
    "O = np.array([0, 0, 0])  # Point optimal\n",
    "\n",
    "# Points de classement\n",
    "A = np.array([8, 0, 0])\n",
    "B = np.array([0, 12, 0])\n",
    "C = np.array([0, 0, 15])\n",
    "\n",
    "# Direction de la droite d\n",
    "w = np.array([1, 2, 3])\n",
    "\n",
    "# Droite d : O + t*w\n",
    "t_vals = np.linspace(-1, 10, 100)\n",
    "d_points = np.array([t_vals * w[0], t_vals * w[1], t_vals * w[2]])\n",
    "\n",
    "# Plan T : formé par A, B, C\n",
    "# On calcule un point I tel que I ∈ d ∩ plan(A, B, C)\n",
    "AB = B - A\n",
    "AC = C - A\n",
    "n = np.cross(AB, AC)  # vecteur normal au plan T\n",
    "\n",
    "# Produit scalaire entre n et vecteur (I - A) = 0\n",
    "# Soit I = t*w, on veut : <n, t*w - A> = 0 → t = <n, A> / <n, w>\n",
    "numerateur = np.dot(n, A)\n",
    "denominateur = np.dot(n, w)\n",
    "t_I = numerateur / denominateur\n",
    "I = t_I * w\n",
    "\n",
    "fig = go.Figure()\n",
    "\n",
    "# Tracer arêtes pyramide\n",
    "for edge in [[O, MP], [O, PC], [O, PSI], [MP, PC], [PC, PSI], [PSI, MP]]:\n",
    "    fig.add_trace(go.Scatter3d(\n",
    "        x=[edge[0][0], edge[1][0]],\n",
    "        y=[edge[0][1], edge[1][1]],\n",
    "        z=[edge[0][2], edge[1][2]],\n",
    "        mode='lines',\n",
    "        line=dict(color='lightblue', width=3),\n",
    "        showlegend=False\n",
    "    ))\n",
    "\n",
    "# Plan de base (MP-PC-PSI)\n",
    "triangle = np.array([MP, PC, PSI, MP])\n",
    "fig.add_trace(go.Scatter3d(\n",
    "    x=triangle[:, 0],\n",
    "    y=triangle[:, 1],\n",
    "    z=triangle[:, 2],\n",
    "    mode='lines',\n",
    "    line=dict(color='blue', width=2),\n",
    "    name='Plan base'\n",
    "))\n",
    "\n",
    "# Points A, B, C\n",
    "for pt, name, color in zip([A, B, C], [\"A\", \"B\", \"C\"], [\"red\", \"orange\", \"purple\"]):\n",
    "    fig.add_trace(go.Scatter3d(\n",
    "        x=[pt[0]], y=[pt[1]], z=[pt[2]],\n",
    "        mode='markers+text',\n",
    "        marker=dict(size=5, color=color),\n",
    "        text=[name],\n",
    "        textposition=\"top center\",\n",
    "        name=f\"Point {name}\"\n",
    "    ))\n",
    "\n",
    "# Plan T (triangle ABC)\n",
    "T_triangle = np.array([A, B, C, A])\n",
    "fig.add_trace(go.Scatter3d(\n",
    "    x=T_triangle[:, 0],\n",
    "    y=T_triangle[:, 1],\n",
    "    z=T_triangle[:, 2],\n",
    "    mode='lines',\n",
    "    line=dict(color='black', width=2),\n",
    "    name='Plan T'\n",
    "))\n",
    "\n",
    "# Droite d\n",
    "fig.add_trace(go.Scatter3d(\n",
    "    x=d_points[0], y=d_points[1], z=d_points[2],\n",
    "    mode='lines',\n",
    "    line=dict(color='green', width=2, dash='dash'),\n",
    "    name=\"Droite d\"\n",
    "))\n",
    "\n",
    "# Point I (intersection)\n",
    "fig.add_trace(go.Scatter3d(\n",
    "    x=[I[0]], y=[I[1]], z=[I[2]],\n",
    "    mode='markers+text',\n",
    "    marker=dict(size=5, color='black'),\n",
    "    text=[\"I\"],\n",
    "    textposition=\"top center\",\n",
    "    name=\"Intersection I\"\n",
    "))\n",
    "\n",
    "# Point O\n",
    "fig.add_trace(go.Scatter3d(\n",
    "    x=[0], y=[0], z=[0],\n",
    "    mode='markers+text',\n",
    "    marker=dict(size=6, color='green'),\n",
    "    text=[\"O\"],\n",
    "    textposition=\"bottom right\",\n",
    "    name=\"Origine O\"\n",
    "))\n",
    "\n",
    "fig.update_layout(\n",
    "    scene=dict(\n",
    "        xaxis_title='MP',\n",
    "        yaxis_title='PC',\n",
    "        zaxis_title='PSI',\n",
    "        aspectmode='cube'\n",
    "    ),\n",
    "    title=\"Pyramide-support du raisonnement\",\n",
    "    width=900,\n",
    "    height=800\n",
    ")\n",
    "\n",
    "fig.show()\n"
   ]
  },
  {
   "cell_type": "markdown",
   "id": "056ef349",
   "metadata": {},
   "source": [
    "### 2. Synthèse mathématique de la distance $f$"
   ]
  },
  {
   "cell_type": "markdown",
   "id": "a43c65e5",
   "metadata": {},
   "source": [
    "#### 2.1. Equation du plan $T$\n",
    "\n",
    "On a $A(x_{A};0;0)$, $B(0;y_{B};0)$ et $C(0;0;z_{C})$\n",
    "\n",
    "Donc : $\\overrightarrow{AB}\\begin{pmatrix}0-x_{A}\\\\y_{B}-0\\\\0-0\\end{pmatrix}\\overrightarrow{AB}\\begin{pmatrix}-x_{A}\\\\y_{B}\\\\z_{C}\\end{pmatrix}$ et $\\overrightarrow{AC}\\begin{pmatrix}0-x_{A}\\\\0-0\\\\z_{C}-0\\end{pmatrix}\\overrightarrow{AC}\\begin{pmatrix}-x_{A}\\\\0\\\\z_{C}\\end{pmatrix}$\n",
    "\n",
    "On a posé que $\\vec{n}\\begin{pmatrix}a\\\\b\\\\c\\end{pmatrix}\\perp T$ et $\\overrightarrow{AB}$ et $\\overrightarrow{AC}$ ne sont pas colinéaires puisqu'une des coordonnées est nulle.\n",
    "Donc :\n",
    "\n",
    "$$\n",
    "\\begin{align}\n",
    "\\vec{n}\\begin{pmatrix}a\\\\b\\\\c\\end{pmatrix}\\perp T &\\implies \n",
    "\\begin{cases}\n",
    "\\vec{n}\\perp \\overrightarrow{AB} \\\\ \\\\\n",
    "\\vec{n}\\perp \\overrightarrow{AC}\n",
    "\\end{cases}  \\implies \\begin{cases}\n",
    "\\vec{n}\\cdot \\overrightarrow{AB}=0 \\\\ \\\\\n",
    "\\vec{n}\\cdot \\overrightarrow{AC}=0\n",
    "\\end{cases} \\\\\n",
    " \\\\\n",
    "&\\implies \\begin{cases}\n",
    "-ax_{A}+by_{B}+0\\times0=0 \\\\\n",
    "-ax_{A}+0\\times0+cz_{C}=0\n",
    "\\end{cases} \\implies \\begin{cases}\n",
    "ax_{A}=by_{B} \\\\\n",
    "ax_{A}=cz_{C}\n",
    "\\end{cases} \\\\\n",
    " \\\\\n",
    "\\vec{n}\\begin{pmatrix}a\\\\b\\\\c\\end{pmatrix}\\perp T &\\implies \\begin{cases}\n",
    "b=a\\frac{x_{A}}{y_{B}} \\\\\n",
    "c=a\\frac{x_{A}}{z_{C}}\n",
    "\\end{cases}\n",
    "\\end{align}\n",
    "$$\n",
    "\n",
    "Donc en posant $a=1$ on obtient : $\\vec{n}\\begin{pmatrix}1\\\\ \\frac{x_{A}}{y_{B}} \\\\ \\frac{x_{A}}{z_{C}} \\end{pmatrix}$\n",
    "\n",
    "Ainsi, $T:x+ \\frac{x_{A}}{y_{B}}y+\\frac{x_{A}}{z_{C}}z+d=0$\n",
    "Or $A(x_{A};0;0) \\in T$ donc ses coordonnées vérifient $T$ :\n",
    "$$x_{A}+\\frac{x_{A}}{y_{B}}\\times0+\\frac{x_{A}}{z_{C}}\\times0+d=0\\implies d=-x_{A}$$\n",
    "\n",
    "Donc finalement : $$T:x+\\frac{x_{A}}{y_{B}}y+\\frac{x_{A}}{z_{C}}z-x_{A}=0$$\n",
    "#### 2.2. Equations paramétriques de la droite $d$\n",
    "\n",
    "On a posé que la droite $d$ possède un vecteur directeur $\\vec{u}\\begin{pmatrix}\\lambda_{A} \\\\\\lambda_{B}\\\\\\lambda_{C}\\end{pmatrix}$\n",
    "Donc ses équations paramétriques sont :\n",
    "\n",
    "$$d:\\begin{cases}\n",
    "x=\\lambda_{A}\\cdot t \\\\\n",
    "y=\\lambda_{B}\\cdot t \\\\\n",
    "z=\\lambda_{C}\\cdot t\n",
    "\\end{cases}, \\quad t\\in \\mathbb{R}$$\n",
    "#### 2.3. Intersection de $T$ et $d$\n",
    "\n",
    "Les coordonnées du point $I$ vérifient l'équation du plan $T$ *et* les équations paramétriques de $d$ :\n",
    "\n",
    "$$\\begin{cases}\n",
    "x=\\lambda_{A}\\cdot t \\\\\n",
    "y=\\lambda_{B}\\cdot t \\\\\n",
    "z=\\lambda_{C}\\cdot t \\\\\n",
    "x+\\frac{x_{A}}{y_{B}}y+\\frac{x_{A}}{z_{C}}z-x_{A}=0\n",
    "\\end{cases}$$\n",
    "On remplace les équations paramétriques dans celle du plan, et on résout pour $t$ :\n",
    "\n",
    "$$\n",
    "\\lambda_{A}t+\\frac{x_{A}}{y_{B}}\\lambda_{B}t+\\frac{x_{A}}{z_{C}}\\lambda_{C}t-x_{A}=0 \\implies t\\left( \\lambda_{A}+\\frac{x_{A}}{y_{B}}\\lambda_{B}+\\frac{x_{A}}{z_{C}}\\lambda_{C} \\right)=x_{A}\n",
    "$$\n",
    "Donc : $$t=\\frac{x_{A}}{\\lambda_{A}+\\frac{x_{A}}{y_{B}}\\lambda_{B}+\\frac{x_{A}}{z_{C}}\\lambda_{C}}$$\n",
    "Il suffit ensuite de remplacer dans les les équations paramétriques, et on trouve :\n",
    "\n",
    "$$x_{I}=\\frac{x_{A}}{\\lambda_{A}+\\frac{x_{A}}{y_{B}}\\lambda_{B}+\\frac{x_{A}}{z_{C}}\\lambda_{C}}\\cdot\\lambda_{A} \\quad\\text{et}\\quad y_{I}=\\frac{x_{A}}{\\lambda_{A}+\\frac{x_{A}}{y_{B}}\\lambda_{B}+\\frac{x_{A}}{z_{C}}\\lambda_{C}}\\cdot\\lambda_{B} \\quad\\text{et}\\quad z_{I}=\\frac{x_{A}}{\\lambda_{A}+\\frac{x_{A}}{y_{B}}\\lambda_{B}+\\frac{x_{A}}{z_{C}}\\lambda_{C}}\\cdot\\lambda_{C}$$\n",
    "\n",
    "#### 2.4. Distance $f=OI$\n",
    "\n",
    "On utilise une simple distance euclidienne :\n",
    "\n",
    "$$\\begin{align}\n",
    "f&=\\sqrt{ x_{I}^2+y_{I}^2+z_{I}^2 } \\\\\n",
    "&=\\sqrt{ (\\lambda_{A}t)^2+(\\lambda_{B}t)^2+(\\lambda_{C}t)^2 } \\\\\n",
    "&=\\sqrt{ t^2(\\lambda_{A}^2+\\lambda_{B}^2+\\lambda_{C}^2) } \\\\\n",
    "f&=t\\cdot \\sqrt{ \\lambda_{A}^2+\\lambda_{B}^2+\\lambda_{C}^2 }\n",
    "\\end{align}$$\n",
    "\n",
    "Ainsi, finalement, à partir de 6 paramètres d'entrée ($x_{A}$, $y_{B}$, $z_{C}$, $\\lambda_{A}$, $\\lambda_{B}$ et $\\lambda_{C}$), on obtient un score final, où tous les paramètres sont pris en compte :\n",
    "\n",
    "$$f=\\frac{x_{A}\\cdot\\sqrt{ \\lambda_{A}^2+\\lambda_{B}^2+\\lambda_{C}^2}}{\\lambda_{A}+\\frac{x_{A}}{y_{B}}\\lambda_{B}+\\frac{x_{A}}{z_{C}}\\lambda_{C}}$$\n"
   ]
  },
  {
   "cell_type": "markdown",
   "id": "84c3fa2c",
   "metadata": {},
   "source": [
    "Commençons par définir un classement exemple :"
   ]
  },
  {
   "cell_type": "markdown",
   "id": "da800089",
   "metadata": {},
   "source": [
    "### 3. Exemple : application avec des valeurs réels"
   ]
  },
  {
   "cell_type": "markdown",
   "id": "1475aad5",
   "metadata": {},
   "source": [
    "On renseigne les pondérations et la liste des rangs (ici générérés programmatiquement), et on affiche le tableau créé"
   ]
  },
  {
   "cell_type": "code",
   "execution_count": 8,
   "id": "f4bd732c",
   "metadata": {},
   "outputs": [
    {
     "data": {
      "application/vnd.microsoft.datawrangler.viewer.v0+json": {
       "columns": [
        {
         "name": "index",
         "rawType": "int64",
         "type": "integer"
        },
        {
         "name": "xA",
         "rawType": "int64",
         "type": "integer"
        },
        {
         "name": "yB",
         "rawType": "int64",
         "type": "integer"
        },
        {
         "name": "zC",
         "rawType": "int64",
         "type": "integer"
        }
       ],
       "conversionMethod": "pd.DataFrame",
       "ref": "50c424ac-85ee-40bc-8f28-8c2ec219fb00",
       "rows": [
        [
         "0",
         "1",
         "2",
         "1"
        ],
        [
         "1",
         "3",
         "1",
         "5"
        ],
        [
         "2",
         "2",
         "3",
         "3"
        ],
        [
         "3",
         "4",
         "4",
         "2"
        ],
        [
         "4",
         "5",
         "5",
         "4"
        ]
       ],
       "shape": {
        "columns": 3,
        "rows": 5
       }
      },
      "text/html": [
       "<div>\n",
       "<style scoped>\n",
       "    .dataframe tbody tr th:only-of-type {\n",
       "        vertical-align: middle;\n",
       "    }\n",
       "\n",
       "    .dataframe tbody tr th {\n",
       "        vertical-align: top;\n",
       "    }\n",
       "\n",
       "    .dataframe thead th {\n",
       "        text-align: right;\n",
       "    }\n",
       "</style>\n",
       "<table border=\"1\" class=\"dataframe\">\n",
       "  <thead>\n",
       "    <tr style=\"text-align: right;\">\n",
       "      <th></th>\n",
       "      <th>xA</th>\n",
       "      <th>yB</th>\n",
       "      <th>zC</th>\n",
       "    </tr>\n",
       "  </thead>\n",
       "  <tbody>\n",
       "    <tr>\n",
       "      <th>0</th>\n",
       "      <td>1</td>\n",
       "      <td>2</td>\n",
       "      <td>1</td>\n",
       "    </tr>\n",
       "    <tr>\n",
       "      <th>1</th>\n",
       "      <td>3</td>\n",
       "      <td>1</td>\n",
       "      <td>5</td>\n",
       "    </tr>\n",
       "    <tr>\n",
       "      <th>2</th>\n",
       "      <td>2</td>\n",
       "      <td>3</td>\n",
       "      <td>3</td>\n",
       "    </tr>\n",
       "    <tr>\n",
       "      <th>3</th>\n",
       "      <td>4</td>\n",
       "      <td>4</td>\n",
       "      <td>2</td>\n",
       "    </tr>\n",
       "    <tr>\n",
       "      <th>4</th>\n",
       "      <td>5</td>\n",
       "      <td>5</td>\n",
       "      <td>4</td>\n",
       "    </tr>\n",
       "  </tbody>\n",
       "</table>\n",
       "</div>"
      ],
      "text/plain": [
       "   xA  yB  zC\n",
       "0   1   2   1\n",
       "1   3   1   5\n",
       "2   2   3   3\n",
       "3   4   4   2\n",
       "4   5   5   4"
      ]
     },
     "execution_count": 8,
     "metadata": {},
     "output_type": "execute_result"
    }
   ],
   "source": [
    "# Définition des pondérations de chaque classement\n",
    "pond = {\n",
    "    'A': 0.4,\n",
    "    'B': 0.3,\n",
    "    'C': 0.3\n",
    "}\n",
    "\n",
    "# Génération de 20 rangs\n",
    "rangs = np.array([[i, (i + 1) % 20 + 1, (i + 2) % 20 + 1] for i in range(1, 21)])\n",
    "rangs = [[1, 2, 1], [3, 1, 5], [2, 3, 3], [4, 4, 2], [5, 5, 4]]\n",
    "\n",
    "# Conversion en tableau pandas\n",
    "df = pd.DataFrame(rangs, columns=[['x','y','z'][list(dict.keys(pond)).index(label)] + label for label in list(dict.keys(pond))])\n",
    "df"
   ]
  },
  {
   "cell_type": "markdown",
   "id": "36d261d5",
   "metadata": {},
   "source": [
    "On réalise l'ensemble des calculs, c'est-à-dire :\n",
    "* $t$ : le paramètre définissant l'intersection du plan $T$ et de la droite $d$\n",
    "* $x_I$ $y_I$ et $z_I$ : les coordonnées du point d'intersection $I$\n",
    "* $f$ : la distance qui nous intéresse\n",
    "\n",
    "Notons que l'on aurait pu calculer directement $f$, car c'est la valeur qui nous intéresse ; mais pour faire une représentation géométrique comme précédemment, il nous faut les coordonnées exactes."
   ]
  },
  {
   "cell_type": "code",
   "execution_count": 9,
   "id": "97221103",
   "metadata": {},
   "outputs": [
    {
     "data": {
      "application/vnd.microsoft.datawrangler.viewer.v0+json": {
       "columns": [
        {
         "name": "index",
         "rawType": "int64",
         "type": "integer"
        },
        {
         "name": "xA",
         "rawType": "int64",
         "type": "integer"
        },
        {
         "name": "yB",
         "rawType": "int64",
         "type": "integer"
        },
        {
         "name": "zC",
         "rawType": "int64",
         "type": "integer"
        },
        {
         "name": "t",
         "rawType": "float64",
         "type": "float"
        },
        {
         "name": "xI",
         "rawType": "float64",
         "type": "float"
        },
        {
         "name": "yI",
         "rawType": "float64",
         "type": "float"
        },
        {
         "name": "zI",
         "rawType": "float64",
         "type": "float"
        },
        {
         "name": "f",
         "rawType": "float64",
         "type": "float"
        }
       ],
       "conversionMethod": "pd.DataFrame",
       "ref": "25924148-37e7-4d82-97eb-e0aaa5eeaacf",
       "rows": [
        [
         "0",
         "1",
         "2",
         "1",
         "1.176470588235294",
         "0.4705882352941176",
         "0.35294117647058815",
         "0.35294117647058815",
         "0.6859943405700352"
        ],
        [
         "1",
         "3",
         "1",
         "5",
         "2.027027027027027",
         "0.810810810810811",
         "0.6081081081081081",
         "0.6081081081081081",
         "1.1819497084145878"
        ],
        [
         "2",
         "2",
         "3",
         "3",
         "2.5",
         "1.0",
         "0.75",
         "0.75",
         "1.457737973711325"
        ],
        [
         "3",
         "4",
         "4",
         "2",
         "3.0769230769230775",
         "1.230769230769231",
         "0.9230769230769232",
         "0.9230769230769232",
         "1.794139044567785"
        ],
        [
         "4",
         "5",
         "5",
         "4",
         "4.651162790697675",
         "1.86046511627907",
         "1.3953488372093024",
         "1.3953488372093024",
         "2.712070648765256"
        ]
       ],
       "shape": {
        "columns": 8,
        "rows": 5
       }
      },
      "text/html": [
       "<div>\n",
       "<style scoped>\n",
       "    .dataframe tbody tr th:only-of-type {\n",
       "        vertical-align: middle;\n",
       "    }\n",
       "\n",
       "    .dataframe tbody tr th {\n",
       "        vertical-align: top;\n",
       "    }\n",
       "\n",
       "    .dataframe thead th {\n",
       "        text-align: right;\n",
       "    }\n",
       "</style>\n",
       "<table border=\"1\" class=\"dataframe\">\n",
       "  <thead>\n",
       "    <tr style=\"text-align: right;\">\n",
       "      <th></th>\n",
       "      <th>xA</th>\n",
       "      <th>yB</th>\n",
       "      <th>zC</th>\n",
       "      <th>t</th>\n",
       "      <th>xI</th>\n",
       "      <th>yI</th>\n",
       "      <th>zI</th>\n",
       "      <th>f</th>\n",
       "    </tr>\n",
       "  </thead>\n",
       "  <tbody>\n",
       "    <tr>\n",
       "      <th>0</th>\n",
       "      <td>1</td>\n",
       "      <td>2</td>\n",
       "      <td>1</td>\n",
       "      <td>1.176471</td>\n",
       "      <td>0.470588</td>\n",
       "      <td>0.352941</td>\n",
       "      <td>0.352941</td>\n",
       "      <td>0.685994</td>\n",
       "    </tr>\n",
       "    <tr>\n",
       "      <th>1</th>\n",
       "      <td>3</td>\n",
       "      <td>1</td>\n",
       "      <td>5</td>\n",
       "      <td>2.027027</td>\n",
       "      <td>0.810811</td>\n",
       "      <td>0.608108</td>\n",
       "      <td>0.608108</td>\n",
       "      <td>1.181950</td>\n",
       "    </tr>\n",
       "    <tr>\n",
       "      <th>2</th>\n",
       "      <td>2</td>\n",
       "      <td>3</td>\n",
       "      <td>3</td>\n",
       "      <td>2.500000</td>\n",
       "      <td>1.000000</td>\n",
       "      <td>0.750000</td>\n",
       "      <td>0.750000</td>\n",
       "      <td>1.457738</td>\n",
       "    </tr>\n",
       "    <tr>\n",
       "      <th>3</th>\n",
       "      <td>4</td>\n",
       "      <td>4</td>\n",
       "      <td>2</td>\n",
       "      <td>3.076923</td>\n",
       "      <td>1.230769</td>\n",
       "      <td>0.923077</td>\n",
       "      <td>0.923077</td>\n",
       "      <td>1.794139</td>\n",
       "    </tr>\n",
       "    <tr>\n",
       "      <th>4</th>\n",
       "      <td>5</td>\n",
       "      <td>5</td>\n",
       "      <td>4</td>\n",
       "      <td>4.651163</td>\n",
       "      <td>1.860465</td>\n",
       "      <td>1.395349</td>\n",
       "      <td>1.395349</td>\n",
       "      <td>2.712071</td>\n",
       "    </tr>\n",
       "  </tbody>\n",
       "</table>\n",
       "</div>"
      ],
      "text/plain": [
       "   xA  yB  zC         t        xI        yI        zI         f\n",
       "0   1   2   1  1.176471  0.470588  0.352941  0.352941  0.685994\n",
       "1   3   1   5  2.027027  0.810811  0.608108  0.608108  1.181950\n",
       "2   2   3   3  2.500000  1.000000  0.750000  0.750000  1.457738\n",
       "3   4   4   2  3.076923  1.230769  0.923077  0.923077  1.794139\n",
       "4   5   5   4  4.651163  1.860465  1.395349  1.395349  2.712071"
      ]
     },
     "execution_count": 9,
     "metadata": {},
     "output_type": "execute_result"
    }
   ],
   "source": [
    "df['t'] = df['xA']/(pond['A']+(df['xA']/df['yB'])*pond['B']+(df['xA']/df['zC'])*pond['C'])\n",
    "df['xI'] = df['t']*pond['A']\n",
    "df['yI'] = df['t']*pond['B']\n",
    "df['zI'] = df['t']*pond['C']\n",
    "df['f'] = df['t'] * np.sqrt(pond['A']**2 + pond['B']**2 + pond['C']**2)\n",
    "df"
   ]
  },
  {
   "cell_type": "markdown",
   "id": "850e64e4",
   "metadata": {},
   "source": [
    "On réutilise la figure précédente, en affichant maintenant les points de notre cas exemple."
   ]
  },
  {
   "cell_type": "code",
   "execution_count": 10,
   "id": "5aa57426",
   "metadata": {},
   "outputs": [
    {
     "data": {
      "application/vnd.plotly.v1+json": {
       "config": {
        "plotlyServerURL": "https://plot.ly"
       },
       "data": [
        {
         "line": {
          "color": "lightblue",
          "width": 3
         },
         "mode": "lines",
         "showlegend": false,
         "type": "scatter3d",
         "x": [
          0,
          20
         ],
         "y": [
          0,
          0
         ],
         "z": [
          0,
          0
         ]
        },
        {
         "line": {
          "color": "lightblue",
          "width": 3
         },
         "mode": "lines",
         "showlegend": false,
         "type": "scatter3d",
         "x": [
          0,
          0
         ],
         "y": [
          0,
          20
         ],
         "z": [
          0,
          0
         ]
        },
        {
         "line": {
          "color": "lightblue",
          "width": 3
         },
         "mode": "lines",
         "showlegend": false,
         "type": "scatter3d",
         "x": [
          0,
          0
         ],
         "y": [
          0,
          0
         ],
         "z": [
          0,
          20
         ]
        },
        {
         "line": {
          "color": "blue",
          "width": 2
         },
         "mode": "lines",
         "name": "Plan base",
         "type": "scatter3d",
         "x": {
          "bdata": "FAAAFA==",
          "dtype": "i1"
         },
         "y": {
          "bdata": "ABQAAA==",
          "dtype": "i1"
         },
         "z": {
          "bdata": "AAAUAA==",
          "dtype": "i1"
         }
        },
        {
         "line": {
          "color": "green",
          "dash": "dash",
          "width": 2
         },
         "mode": "lines",
         "name": "Droite d",
         "type": "scatter3d",
         "x": {
          "bdata": "GBgYGBgY2D+E7c87eizZP+/Ch1/cQNo/Wpg/gz5V2z/HbfemoGncPzJDr8oCft0/nRhn7mSS3j8K7h4Sx6bfP7th65qUXeA/cEzHrMXn4D8nN6O+9nHhP9whf9An/OE/kgxb4liG4j9I9zb0iRDjP//hEga7muM/tMzuF+wk5D9qt8opHa/kPyCipjtOOeU/1YyCTX/D5T+Md15fsE3mP0JiOnHh1+Y/90wWgxJi5z+tN/KUQ+znP2QizqZ0dug/GA2quKUA6T/P94XK1orpP4XiYdwHFeo/Os097jif6j/wtxkAainrP6ei9RGbs+s/XI3RI8w97D8SeK01/cfsP8hiiUcuUu0/fU1lWV/c7T80OEFrkGbuP+oiHX3B8O4/nw35jvJ67z8rfGrQkQLwP4ZxWFmqR/A/4GZG4sKM8D87XDRr29HwP5dRIvTzFvE/8UYQfQxc8T9MPP4FJaHxP6cx7I495vE/AifaF1Yr8j9dHMigbnDyP7gRtimHtfI/Eweksp/68j9u/JE7uD/zP8nxf8TQhPM/JOdtTenJ8z9/3FvWAQ/0P9rRSV8aVPQ/NMc36DKZ9D+QvCVxS970P+uxE/pjI/U/RacBg3xo9T+gnO8Lla31P/yR3ZSt8vU/VofLHcY39j+xfLmm3nz2Pwxypy/3wfY/Z2eVuA8H9z/CXINBKEz3Px1SccpAkfc/eEdfU1nW9z/TPE3ccRv4Py4yO2WKYPg/iCcp7qKl+D/kHBd3u+r4Pz8SBQDUL/k/mQfziOx0+T/1/OARBbr5P1Dyzpod//k/que8IzZE+j8F3aqsTon6P2DSmDVnzvo/vMeGvn8T+z8XvXRHmFj7P3KyYtCwnfs/zKdQWcni+z8nnT7i4Sf8P4KSLGv6bPw/3Yca9BKy/D84fQh9K/f8P5Ry9gVEPP0/7WfkjlyB/T9IXdIXdcb9P6RSwKCNC/4//0euKaZQ/j9aPZyyvpX+P7UyijvX2v4/Dyh4xO8f/z9qHWZNCGX/P8USVNYgqv8/IAhCXznv/z++/hf0KBoAQGv5jji1PABAGfQFfUFfAEA=",
          "dtype": "f8"
         },
         "y": {
          "bdata": "ERISEhIS0j8i8tusW+HSPzPSpUelsNM/Q7Jv4u5/1D9Vkjl9OE/VP2VyAxiCHtY/dVLNssvt1j+HMpdNFb3XP5cSYehejNg/qPIqg6hb2T+50vQd8iraP8qyvrg7+to/2pKIU4XJ2z/sclLuzpjcP/1SHIkYaN0/DDPmI2I33j8eE7C+qwbfPzDzeVn11d8/n+khep9S4D+o2YZHRLrgP7HJ6xTpIeE/ublQ4o2J4T/BqbWvMvHhP8qZGn3XWOI/0ol/SnzA4j/beeQXISjjP+NpSeXFj+M/61musmr34z/0SROAD1/kP/05eE20xuQ/BCrdGlku5T8NGkLo/ZXlPxYKp7Wi/eU/HfoLg0dl5j8m6nBQ7MzmPy/a1R2RNOc/N8o66zWc5z8/up+42gPoP0iqBIZ/a+g/UJppUyTT6D9Zis4gyTrpP2F6M+5touk/aWqYuxIK6j9yWv2It3HqP3tKYlZc2eo/gjrHIwFB6z+LKizxpajrP5Qakb5KEOw/mwr2i+937D+k+lpZlN/sP63qvyY5R+0/tNok9N2u7T+9yonBghbuP8a67o4nfu4/zqpTXMzl7j/WmrgpcU3vP9+KHfcVte8/cz1BYl0O8D94tfPIL0LwP3wtpi8CdvA/gKVYltSp8D+EHQv9pt3wP4mVvWN5EfE/jQ1wyktF8T+RhSIxHnnxP5X91JfwrPE/mXWH/sLg8T+e7TlllRTyP6Jl7MtnSPI/pt2eMjp88j+qVVGZDLDyP6/NAwDf4/I/skW2ZrEX8z+3vWjNg0vzP7w1GzRWf/M/v63Nmiiz8z/DJYAB++bzP8idMmjNGvQ/zBXlzp9O9D/RjZc1coL0P9UFSpxEtvQ/2H38Ahfq9D/d9a5p6R31P+FtYdC7UfU/5eUTN46F9T/qXcadYLn1P+7VeAQz7fU/8U0rawUh9j/2xd3R11T2P/o9kDiqiPY//7VCn3y89j8DLvUFT/D2Pwemp2whJPc/Cx5a0/NX9z8Plgw6xov3PxMOv6CYv/c/GIZxB2vz9z8c/iNuPSf4PyF21tQPW/g/Je6IO+KO+D8=",
          "dtype": "f8"
         },
         "z": {
          "bdata": "ERISEhIS0j8i8tusW+HSPzPSpUelsNM/Q7Jv4u5/1D9Vkjl9OE/VP2VyAxiCHtY/dVLNssvt1j+HMpdNFb3XP5cSYehejNg/qPIqg6hb2T+50vQd8iraP8qyvrg7+to/2pKIU4XJ2z/sclLuzpjcP/1SHIkYaN0/DDPmI2I33j8eE7C+qwbfPzDzeVn11d8/n+khep9S4D+o2YZHRLrgP7HJ6xTpIeE/ublQ4o2J4T/BqbWvMvHhP8qZGn3XWOI/0ol/SnzA4j/beeQXISjjP+NpSeXFj+M/61musmr34z/0SROAD1/kP/05eE20xuQ/BCrdGlku5T8NGkLo/ZXlPxYKp7Wi/eU/HfoLg0dl5j8m6nBQ7MzmPy/a1R2RNOc/N8o66zWc5z8/up+42gPoP0iqBIZ/a+g/UJppUyTT6D9Zis4gyTrpP2F6M+5touk/aWqYuxIK6j9yWv2It3HqP3tKYlZc2eo/gjrHIwFB6z+LKizxpajrP5Qakb5KEOw/mwr2i+937D+k+lpZlN/sP63qvyY5R+0/tNok9N2u7T+9yonBghbuP8a67o4nfu4/zqpTXMzl7j/WmrgpcU3vP9+KHfcVte8/cz1BYl0O8D94tfPIL0LwP3wtpi8CdvA/gKVYltSp8D+EHQv9pt3wP4mVvWN5EfE/jQ1wyktF8T+RhSIxHnnxP5X91JfwrPE/mXWH/sLg8T+e7TlllRTyP6Jl7MtnSPI/pt2eMjp88j+qVVGZDLDyP6/NAwDf4/I/skW2ZrEX8z+3vWjNg0vzP7w1GzRWf/M/v63Nmiiz8z/DJYAB++bzP8idMmjNGvQ/zBXlzp9O9D/RjZc1coL0P9UFSpxEtvQ/2H38Ahfq9D/d9a5p6R31P+FtYdC7UfU/5eUTN46F9T/qXcadYLn1P+7VeAQz7fU/8U0rawUh9j/2xd3R11T2P/o9kDiqiPY//7VCn3y89j8DLvUFT/D2Pwemp2whJPc/Cx5a0/NX9z8Plgw6xov3PxMOv6CYv/c/GIZxB2vz9z8c/iNuPSf4PyF21tQPW/g/Je6IO+KO+D8=",
          "dtype": "f8"
         }
        },
        {
         "marker": {
          "color": "red",
          "size": 5
         },
         "mode": "markers+text",
         "name": "Points I",
         "text": [
          "0",
          "1",
          "2",
          "3",
          "4"
         ],
         "textposition": "top center",
         "type": "scatter3d",
         "x": {
          "bdata": "HR4eHh4e3j8kn3WDKfLpPwAAAAAAAPA/FTuxEzux8z9yR9wRd8T9Pw==",
          "dtype": "f8"
         },
         "y": {
          "bdata": "lZaWlpaW1j9aN5gin3XjPwAAAAAAAOg/n9iJndiJ7T+VNWVNWVP2Pw==",
          "dtype": "f8"
         },
         "z": {
          "bdata": "lZaWlpaW1j9aN5gin3XjPwAAAAAAAOg/n9iJndiJ7T+VNWVNWVP2Pw==",
          "dtype": "f8"
         }
        },
        {
         "marker": {
          "color": "green",
          "size": 6
         },
         "mode": "markers+text",
         "name": "Origine O",
         "text": [
          "O"
         ],
         "textposition": "bottom right",
         "type": "scatter3d",
         "x": [
          0
         ],
         "y": [
          0
         ],
         "z": [
          0
         ]
        }
       ],
       "layout": {
        "height": 800,
        "margin": {
         "b": 20,
         "l": 20,
         "r": 20,
         "t": 40
        },
        "scene": {
         "aspectmode": "cube",
         "xaxis": {
          "title": {
           "text": "MP"
          }
         },
         "yaxis": {
          "title": {
           "text": "PC"
          }
         },
         "zaxis": {
          "title": {
           "text": "PSI"
          }
         }
        },
        "template": {
         "data": {
          "bar": [
           {
            "error_x": {
             "color": "#2a3f5f"
            },
            "error_y": {
             "color": "#2a3f5f"
            },
            "marker": {
             "line": {
              "color": "#E5ECF6",
              "width": 0.5
             },
             "pattern": {
              "fillmode": "overlay",
              "size": 10,
              "solidity": 0.2
             }
            },
            "type": "bar"
           }
          ],
          "barpolar": [
           {
            "marker": {
             "line": {
              "color": "#E5ECF6",
              "width": 0.5
             },
             "pattern": {
              "fillmode": "overlay",
              "size": 10,
              "solidity": 0.2
             }
            },
            "type": "barpolar"
           }
          ],
          "carpet": [
           {
            "aaxis": {
             "endlinecolor": "#2a3f5f",
             "gridcolor": "white",
             "linecolor": "white",
             "minorgridcolor": "white",
             "startlinecolor": "#2a3f5f"
            },
            "baxis": {
             "endlinecolor": "#2a3f5f",
             "gridcolor": "white",
             "linecolor": "white",
             "minorgridcolor": "white",
             "startlinecolor": "#2a3f5f"
            },
            "type": "carpet"
           }
          ],
          "choropleth": [
           {
            "colorbar": {
             "outlinewidth": 0,
             "ticks": ""
            },
            "type": "choropleth"
           }
          ],
          "contour": [
           {
            "colorbar": {
             "outlinewidth": 0,
             "ticks": ""
            },
            "colorscale": [
             [
              0,
              "#0d0887"
             ],
             [
              0.1111111111111111,
              "#46039f"
             ],
             [
              0.2222222222222222,
              "#7201a8"
             ],
             [
              0.3333333333333333,
              "#9c179e"
             ],
             [
              0.4444444444444444,
              "#bd3786"
             ],
             [
              0.5555555555555556,
              "#d8576b"
             ],
             [
              0.6666666666666666,
              "#ed7953"
             ],
             [
              0.7777777777777778,
              "#fb9f3a"
             ],
             [
              0.8888888888888888,
              "#fdca26"
             ],
             [
              1,
              "#f0f921"
             ]
            ],
            "type": "contour"
           }
          ],
          "contourcarpet": [
           {
            "colorbar": {
             "outlinewidth": 0,
             "ticks": ""
            },
            "type": "contourcarpet"
           }
          ],
          "heatmap": [
           {
            "colorbar": {
             "outlinewidth": 0,
             "ticks": ""
            },
            "colorscale": [
             [
              0,
              "#0d0887"
             ],
             [
              0.1111111111111111,
              "#46039f"
             ],
             [
              0.2222222222222222,
              "#7201a8"
             ],
             [
              0.3333333333333333,
              "#9c179e"
             ],
             [
              0.4444444444444444,
              "#bd3786"
             ],
             [
              0.5555555555555556,
              "#d8576b"
             ],
             [
              0.6666666666666666,
              "#ed7953"
             ],
             [
              0.7777777777777778,
              "#fb9f3a"
             ],
             [
              0.8888888888888888,
              "#fdca26"
             ],
             [
              1,
              "#f0f921"
             ]
            ],
            "type": "heatmap"
           }
          ],
          "histogram": [
           {
            "marker": {
             "pattern": {
              "fillmode": "overlay",
              "size": 10,
              "solidity": 0.2
             }
            },
            "type": "histogram"
           }
          ],
          "histogram2d": [
           {
            "colorbar": {
             "outlinewidth": 0,
             "ticks": ""
            },
            "colorscale": [
             [
              0,
              "#0d0887"
             ],
             [
              0.1111111111111111,
              "#46039f"
             ],
             [
              0.2222222222222222,
              "#7201a8"
             ],
             [
              0.3333333333333333,
              "#9c179e"
             ],
             [
              0.4444444444444444,
              "#bd3786"
             ],
             [
              0.5555555555555556,
              "#d8576b"
             ],
             [
              0.6666666666666666,
              "#ed7953"
             ],
             [
              0.7777777777777778,
              "#fb9f3a"
             ],
             [
              0.8888888888888888,
              "#fdca26"
             ],
             [
              1,
              "#f0f921"
             ]
            ],
            "type": "histogram2d"
           }
          ],
          "histogram2dcontour": [
           {
            "colorbar": {
             "outlinewidth": 0,
             "ticks": ""
            },
            "colorscale": [
             [
              0,
              "#0d0887"
             ],
             [
              0.1111111111111111,
              "#46039f"
             ],
             [
              0.2222222222222222,
              "#7201a8"
             ],
             [
              0.3333333333333333,
              "#9c179e"
             ],
             [
              0.4444444444444444,
              "#bd3786"
             ],
             [
              0.5555555555555556,
              "#d8576b"
             ],
             [
              0.6666666666666666,
              "#ed7953"
             ],
             [
              0.7777777777777778,
              "#fb9f3a"
             ],
             [
              0.8888888888888888,
              "#fdca26"
             ],
             [
              1,
              "#f0f921"
             ]
            ],
            "type": "histogram2dcontour"
           }
          ],
          "mesh3d": [
           {
            "colorbar": {
             "outlinewidth": 0,
             "ticks": ""
            },
            "type": "mesh3d"
           }
          ],
          "parcoords": [
           {
            "line": {
             "colorbar": {
              "outlinewidth": 0,
              "ticks": ""
             }
            },
            "type": "parcoords"
           }
          ],
          "pie": [
           {
            "automargin": true,
            "type": "pie"
           }
          ],
          "scatter": [
           {
            "fillpattern": {
             "fillmode": "overlay",
             "size": 10,
             "solidity": 0.2
            },
            "type": "scatter"
           }
          ],
          "scatter3d": [
           {
            "line": {
             "colorbar": {
              "outlinewidth": 0,
              "ticks": ""
             }
            },
            "marker": {
             "colorbar": {
              "outlinewidth": 0,
              "ticks": ""
             }
            },
            "type": "scatter3d"
           }
          ],
          "scattercarpet": [
           {
            "marker": {
             "colorbar": {
              "outlinewidth": 0,
              "ticks": ""
             }
            },
            "type": "scattercarpet"
           }
          ],
          "scattergeo": [
           {
            "marker": {
             "colorbar": {
              "outlinewidth": 0,
              "ticks": ""
             }
            },
            "type": "scattergeo"
           }
          ],
          "scattergl": [
           {
            "marker": {
             "colorbar": {
              "outlinewidth": 0,
              "ticks": ""
             }
            },
            "type": "scattergl"
           }
          ],
          "scattermap": [
           {
            "marker": {
             "colorbar": {
              "outlinewidth": 0,
              "ticks": ""
             }
            },
            "type": "scattermap"
           }
          ],
          "scattermapbox": [
           {
            "marker": {
             "colorbar": {
              "outlinewidth": 0,
              "ticks": ""
             }
            },
            "type": "scattermapbox"
           }
          ],
          "scatterpolar": [
           {
            "marker": {
             "colorbar": {
              "outlinewidth": 0,
              "ticks": ""
             }
            },
            "type": "scatterpolar"
           }
          ],
          "scatterpolargl": [
           {
            "marker": {
             "colorbar": {
              "outlinewidth": 0,
              "ticks": ""
             }
            },
            "type": "scatterpolargl"
           }
          ],
          "scatterternary": [
           {
            "marker": {
             "colorbar": {
              "outlinewidth": 0,
              "ticks": ""
             }
            },
            "type": "scatterternary"
           }
          ],
          "surface": [
           {
            "colorbar": {
             "outlinewidth": 0,
             "ticks": ""
            },
            "colorscale": [
             [
              0,
              "#0d0887"
             ],
             [
              0.1111111111111111,
              "#46039f"
             ],
             [
              0.2222222222222222,
              "#7201a8"
             ],
             [
              0.3333333333333333,
              "#9c179e"
             ],
             [
              0.4444444444444444,
              "#bd3786"
             ],
             [
              0.5555555555555556,
              "#d8576b"
             ],
             [
              0.6666666666666666,
              "#ed7953"
             ],
             [
              0.7777777777777778,
              "#fb9f3a"
             ],
             [
              0.8888888888888888,
              "#fdca26"
             ],
             [
              1,
              "#f0f921"
             ]
            ],
            "type": "surface"
           }
          ],
          "table": [
           {
            "cells": {
             "fill": {
              "color": "#EBF0F8"
             },
             "line": {
              "color": "white"
             }
            },
            "header": {
             "fill": {
              "color": "#C8D4E3"
             },
             "line": {
              "color": "white"
             }
            },
            "type": "table"
           }
          ]
         },
         "layout": {
          "annotationdefaults": {
           "arrowcolor": "#2a3f5f",
           "arrowhead": 0,
           "arrowwidth": 1
          },
          "autotypenumbers": "strict",
          "coloraxis": {
           "colorbar": {
            "outlinewidth": 0,
            "ticks": ""
           }
          },
          "colorscale": {
           "diverging": [
            [
             0,
             "#8e0152"
            ],
            [
             0.1,
             "#c51b7d"
            ],
            [
             0.2,
             "#de77ae"
            ],
            [
             0.3,
             "#f1b6da"
            ],
            [
             0.4,
             "#fde0ef"
            ],
            [
             0.5,
             "#f7f7f7"
            ],
            [
             0.6,
             "#e6f5d0"
            ],
            [
             0.7,
             "#b8e186"
            ],
            [
             0.8,
             "#7fbc41"
            ],
            [
             0.9,
             "#4d9221"
            ],
            [
             1,
             "#276419"
            ]
           ],
           "sequential": [
            [
             0,
             "#0d0887"
            ],
            [
             0.1111111111111111,
             "#46039f"
            ],
            [
             0.2222222222222222,
             "#7201a8"
            ],
            [
             0.3333333333333333,
             "#9c179e"
            ],
            [
             0.4444444444444444,
             "#bd3786"
            ],
            [
             0.5555555555555556,
             "#d8576b"
            ],
            [
             0.6666666666666666,
             "#ed7953"
            ],
            [
             0.7777777777777778,
             "#fb9f3a"
            ],
            [
             0.8888888888888888,
             "#fdca26"
            ],
            [
             1,
             "#f0f921"
            ]
           ],
           "sequentialminus": [
            [
             0,
             "#0d0887"
            ],
            [
             0.1111111111111111,
             "#46039f"
            ],
            [
             0.2222222222222222,
             "#7201a8"
            ],
            [
             0.3333333333333333,
             "#9c179e"
            ],
            [
             0.4444444444444444,
             "#bd3786"
            ],
            [
             0.5555555555555556,
             "#d8576b"
            ],
            [
             0.6666666666666666,
             "#ed7953"
            ],
            [
             0.7777777777777778,
             "#fb9f3a"
            ],
            [
             0.8888888888888888,
             "#fdca26"
            ],
            [
             1,
             "#f0f921"
            ]
           ]
          },
          "colorway": [
           "#636efa",
           "#EF553B",
           "#00cc96",
           "#ab63fa",
           "#FFA15A",
           "#19d3f3",
           "#FF6692",
           "#B6E880",
           "#FF97FF",
           "#FECB52"
          ],
          "font": {
           "color": "#2a3f5f"
          },
          "geo": {
           "bgcolor": "white",
           "lakecolor": "white",
           "landcolor": "#E5ECF6",
           "showlakes": true,
           "showland": true,
           "subunitcolor": "white"
          },
          "hoverlabel": {
           "align": "left"
          },
          "hovermode": "closest",
          "mapbox": {
           "style": "light"
          },
          "paper_bgcolor": "white",
          "plot_bgcolor": "#E5ECF6",
          "polar": {
           "angularaxis": {
            "gridcolor": "white",
            "linecolor": "white",
            "ticks": ""
           },
           "bgcolor": "#E5ECF6",
           "radialaxis": {
            "gridcolor": "white",
            "linecolor": "white",
            "ticks": ""
           }
          },
          "scene": {
           "xaxis": {
            "backgroundcolor": "#E5ECF6",
            "gridcolor": "white",
            "gridwidth": 2,
            "linecolor": "white",
            "showbackground": true,
            "ticks": "",
            "zerolinecolor": "white"
           },
           "yaxis": {
            "backgroundcolor": "#E5ECF6",
            "gridcolor": "white",
            "gridwidth": 2,
            "linecolor": "white",
            "showbackground": true,
            "ticks": "",
            "zerolinecolor": "white"
           },
           "zaxis": {
            "backgroundcolor": "#E5ECF6",
            "gridcolor": "white",
            "gridwidth": 2,
            "linecolor": "white",
            "showbackground": true,
            "ticks": "",
            "zerolinecolor": "white"
           }
          },
          "shapedefaults": {
           "line": {
            "color": "#2a3f5f"
           }
          },
          "ternary": {
           "aaxis": {
            "gridcolor": "white",
            "linecolor": "white",
            "ticks": ""
           },
           "baxis": {
            "gridcolor": "white",
            "linecolor": "white",
            "ticks": ""
           },
           "bgcolor": "#E5ECF6",
           "caxis": {
            "gridcolor": "white",
            "linecolor": "white",
            "ticks": ""
           }
          },
          "title": {
           "x": 0.05
          },
          "xaxis": {
           "automargin": true,
           "gridcolor": "white",
           "linecolor": "white",
           "ticks": "",
           "title": {
            "standoff": 15
           },
           "zerolinecolor": "white",
           "zerolinewidth": 2
          },
          "yaxis": {
           "automargin": true,
           "gridcolor": "white",
           "linecolor": "white",
           "ticks": "",
           "title": {
            "standoff": 15
           },
           "zerolinecolor": "white",
           "zerolinewidth": 2
          }
         }
        },
        "title": {
         "text": "Visualisation des points d'intersection I sur la droite d"
        },
        "width": 900
       }
      }
     },
     "metadata": {},
     "output_type": "display_data"
    }
   ],
   "source": [
    "fig_I = go.Figure()\n",
    "\n",
    "for edge in [[O, MP], [O, PC], [O, PSI]]:\n",
    "    fig_I.add_trace(go.Scatter3d(\n",
    "        x=[edge[0][0], edge[1][0]],\n",
    "        y=[edge[0][1], edge[1][1]],\n",
    "        z=[edge[0][2], edge[1][2]],\n",
    "        mode='lines',\n",
    "        line=dict(color='lightblue', width=3),\n",
    "        showlegend=False\n",
    "    ))\n",
    "\n",
    "# Plan de base (MP-PC-PSI) - Added to second figure\n",
    "triangle = np.array([MP, PC, PSI, MP]) # Ensure triangle is defined or accessible\n",
    "fig_I.add_trace(go.Scatter3d(\n",
    "    x=triangle[:, 0],\n",
    "    y=triangle[:, 1],\n",
    "    z=triangle[:, 2],\n",
    "    mode='lines',\n",
    "    line=dict(color='blue', width=2),\n",
    "    name='Plan base'\n",
    "))\n",
    "\n",
    "u = np.array([pond['A'], pond['B'], pond['C']])\n",
    "\n",
    "min_t = df['t'].min()\n",
    "max_t = df['t'].max()\n",
    "t_vals_d = np.linspace(min_t * 0.8, max_t * 1.1, 100) \n",
    "d_points_correct = np.array([t_vals_d * u[0], t_vals_d * u[1], t_vals_d * u[2]])\n",
    "\n",
    "fig_I.add_trace(go.Scatter3d(\n",
    "    x=d_points_correct[0], y=d_points_correct[1], z=d_points_correct[2],\n",
    "    mode='lines',\n",
    "    line=dict(color='green', width=2, dash='dash'),\n",
    "    name=\"Droite d\"\n",
    "))\n",
    "\n",
    "fig_I.add_trace(go.Scatter3d(\n",
    "    x=df['xI'], y=df['yI'], z=df['zI'],\n",
    "    mode='markers+text',\n",
    "    marker=dict(size=5, color='red'),\n",
    "    text=[str(idx) for idx in df.index], \n",
    "    textposition=\"top center\",\n",
    "    name=\"Points I\"\n",
    "))\n",
    "\n",
    "fig_I.add_trace(go.Scatter3d(\n",
    "    x=[0], y=[0], z=[0],\n",
    "    mode='markers+text',\n",
    "    marker=dict(size=6, color='green'),\n",
    "    text=[\"O\"],\n",
    "    textposition=\"bottom right\",\n",
    "    name=\"Origine O\"\n",
    "))\n",
    "\n",
    "fig_I.update_layout(\n",
    "    scene=dict(\n",
    "        xaxis_title='MP',\n",
    "        yaxis_title='PC',\n",
    "        zaxis_title='PSI',\n",
    "        aspectmode='cube',\n",
    "    ),\n",
    "    title=\"Visualisation des points d'intersection I sur la droite d\",\n",
    "    width=900,\n",
    "    height=800,\n",
    "    margin=dict(l=20, r=20, b=20, t=40) # Adjust margins to reduce whitespace\n",
    ")\n",
    "\n",
    "fig_I.show()"
   ]
  },
  {
   "cell_type": "code",
   "execution_count": 11,
   "id": "2f2ddb3b",
   "metadata": {},
   "outputs": [
    {
     "data": {
      "application/vnd.microsoft.datawrangler.viewer.v0+json": {
       "columns": [
        {
         "name": "index",
         "rawType": "int64",
         "type": "integer"
        },
        {
         "name": "index",
         "rawType": "int64",
         "type": "integer"
        },
        {
         "name": "xA",
         "rawType": "int64",
         "type": "integer"
        },
        {
         "name": "yB",
         "rawType": "int64",
         "type": "integer"
        },
        {
         "name": "zC",
         "rawType": "int64",
         "type": "integer"
        },
        {
         "name": "f",
         "rawType": "float64",
         "type": "float"
        }
       ],
       "conversionMethod": "pd.DataFrame",
       "ref": "9ed6318e-6c25-4af4-acc2-48a04c68ee1f",
       "rows": [
        [
         "0",
         "0",
         "1",
         "2",
         "1",
         "0.6859943405700352"
        ],
        [
         "1",
         "1",
         "3",
         "1",
         "5",
         "1.1819497084145878"
        ],
        [
         "2",
         "2",
         "2",
         "3",
         "3",
         "1.457737973711325"
        ],
        [
         "3",
         "3",
         "4",
         "4",
         "2",
         "1.794139044567785"
        ],
        [
         "4",
         "4",
         "5",
         "5",
         "4",
         "2.712070648765256"
        ]
       ],
       "shape": {
        "columns": 5,
        "rows": 5
       }
      },
      "text/html": [
       "<div>\n",
       "<style scoped>\n",
       "    .dataframe tbody tr th:only-of-type {\n",
       "        vertical-align: middle;\n",
       "    }\n",
       "\n",
       "    .dataframe tbody tr th {\n",
       "        vertical-align: top;\n",
       "    }\n",
       "\n",
       "    .dataframe thead th {\n",
       "        text-align: right;\n",
       "    }\n",
       "</style>\n",
       "<table border=\"1\" class=\"dataframe\">\n",
       "  <thead>\n",
       "    <tr style=\"text-align: right;\">\n",
       "      <th></th>\n",
       "      <th>index</th>\n",
       "      <th>xA</th>\n",
       "      <th>yB</th>\n",
       "      <th>zC</th>\n",
       "      <th>f</th>\n",
       "    </tr>\n",
       "  </thead>\n",
       "  <tbody>\n",
       "    <tr>\n",
       "      <th>0</th>\n",
       "      <td>0</td>\n",
       "      <td>1</td>\n",
       "      <td>2</td>\n",
       "      <td>1</td>\n",
       "      <td>0.685994</td>\n",
       "    </tr>\n",
       "    <tr>\n",
       "      <th>1</th>\n",
       "      <td>1</td>\n",
       "      <td>3</td>\n",
       "      <td>1</td>\n",
       "      <td>5</td>\n",
       "      <td>1.181950</td>\n",
       "    </tr>\n",
       "    <tr>\n",
       "      <th>2</th>\n",
       "      <td>2</td>\n",
       "      <td>2</td>\n",
       "      <td>3</td>\n",
       "      <td>3</td>\n",
       "      <td>1.457738</td>\n",
       "    </tr>\n",
       "    <tr>\n",
       "      <th>3</th>\n",
       "      <td>3</td>\n",
       "      <td>4</td>\n",
       "      <td>4</td>\n",
       "      <td>2</td>\n",
       "      <td>1.794139</td>\n",
       "    </tr>\n",
       "    <tr>\n",
       "      <th>4</th>\n",
       "      <td>4</td>\n",
       "      <td>5</td>\n",
       "      <td>5</td>\n",
       "      <td>4</td>\n",
       "      <td>2.712071</td>\n",
       "    </tr>\n",
       "  </tbody>\n",
       "</table>\n",
       "</div>"
      ],
      "text/plain": [
       "   index  xA  yB  zC         f\n",
       "0      0   1   2   1  0.685994\n",
       "1      1   3   1   5  1.181950\n",
       "2      2   2   3   3  1.457738\n",
       "3      3   4   4   2  1.794139\n",
       "4      4   5   5   4  2.712071"
      ]
     },
     "execution_count": 11,
     "metadata": {},
     "output_type": "execute_result"
    }
   ],
   "source": [
    "df_sorted = df.sort_values(by='f', ascending=True).reset_index()\n",
    "df_sorted.drop(columns=['t', 'xI', 'yI', 'zI'], inplace=True)\n",
    "df_sorted"
   ]
  },
  {
   "attachments": {
    "image.png": {
     "image/png": "[encoded data removed]"
    }
   },
   "cell_type": "markdown",
   "id": "b6841efa",
   "metadata": {},
   "source": [
    "### 4. Etude statistique\n",
    "\n",
    "$\\lambda_A$, $\\lambda_B$ et $\\lambda_C$ deviennent des variables, donc la droite $d$ devient aussi variable : son intersection avec le plan des pires varie.\n",
    "\n",
    "Pour chaque droite $d$ coupant le plan des pires, on calcule le classement agrégé ; selon le classement qu'on obtient, on colore le point d'intersection de $d$ et du plan des pires.\n",
    "\n",
    "Se forment alors des zones colorées sur le plan des pires, que l'on peut alors étudier en 2D.\n",
    "Le nombre de zones $N$ correspond au nombre de permutations des éléments :\n",
    "$$N=P_n=n!$$\n",
    "\n",
    "Ceci est issu d'une [publication de maths](https://arxiv.org/pdf/2206.00001) : \n",
    "\n",
    "![image.png](attachment:image.png)"
   ]
  },
  {
   "cell_type": "code",
   "execution_count": null,
   "id": "fccefa30",
   "metadata": {},
   "outputs": [],
   "source": [
    "# A coder"
   ]
  }
 ],
 "metadata": {
  "kernelspec": {
   "display_name": ".venv",
   "language": "python",
   "name": "python3"
  },
  "language_info": {
   "codemirror_mode": {
    "name": "ipython",
    "version": 3
   },
   "file_extension": ".py",
   "mimetype": "text/x-python",
   "name": "python",
   "nbconvert_exporter": "python",
   "pygments_lexer": "ipython3",
   "version": "3.12.4"
  }
 },
 "nbformat": 4,
 "nbformat_minor": 5
}
