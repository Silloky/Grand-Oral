{
 "cells": [
  {
   "cell_type": "markdown",
   "id": "c91133a1",
   "metadata": {},
   "source": [
    "## Agrégation de rangs avec la géométrie dans l'espace\n",
    "\n",
    "L'objectif de cette méthode est de donner non seulement une visualisation, mais aussi une relation qui permet, à partir de 3 classements et de pondération respectives, d'obtenir un classement final."
   ]
  },
  {
   "cell_type": "markdown",
   "id": "893d3ab0",
   "metadata": {},
   "source": [
    "### 1. Figure et notations"
   ]
  },
  {
   "cell_type": "markdown",
   "id": "292a2550",
   "metadata": {},
   "source": [
    "La figure utilisée est donc une pyramide dont le sommet $O(0;0;0)$ est l'origine du repère orthonormé $(O;\\vec{OA},\\vec{OB},\\vec{OC})$, où chaque axe correspond à un classement.\n",
    "\n",
    "Les points $A(x_A;0;0)$, $B(0;y_B;0)$ et $C(0;0;z_C)$ représentent la position d'un élément unique sur les trois classements distincts.\n",
    "Ces points forment un plan noté $T$ et de vecteur normal $\\vec{n}\\begin{pmatrix}a\\\\b\\\\c\\end{pmatrix}$\n",
    "\n",
    "On ajoute une droite $d$, passant par $O$ et dont le vecteur directeur $\\vec{u}\\begin{pmatrix}\\lambda_A\\\\\\lambda_B\\\\\\lambda_C\\end{pmatrix}$; $\\lambda_A$, $\\lambda_B$ et $\\lambda_C$ étant les pondérations de chacun des classements.\n",
    "Pour faciliter les calculs, on pose :\n",
    "$$\\lambda_A, \\lambda_B, \\lambda_C \\in [0;1]\\\\\\lambda_A+\\lambda_B+\\lambda_C=1$$\n",
    "\n",
    "On note $I$ le point d'intersection de $d$ et $T$, et $f$ la distance $OI$."
   ]
  },
  {
   "cell_type": "code",
   "execution_count": null,
   "id": "ecdf39d4",
   "metadata": {},
   "outputs": [
    {
     "data": {
      "application/vnd.plotly.v1+json": {
       "config": {
        "plotlyServerURL": "https://plot.ly"
       },
       "data": [
        {
         "line": {
          "color": "lightblue",
          "width": 3
         },
         "mode": "lines",
         "showlegend": false,
         "type": "scatter3d",
         "x": [
          0,
          20
         ],
         "y": [
          0,
          0
         ],
         "z": [
          0,
          0
         ]
        },
        {
         "line": {
          "color": "lightblue",
          "width": 3
         },
         "mode": "lines",
         "showlegend": false,
         "type": "scatter3d",
         "x": [
          0,
          0
         ],
         "y": [
          0,
          20
         ],
         "z": [
          0,
          0
         ]
        },
        {
         "line": {
          "color": "lightblue",
          "width": 3
         },
         "mode": "lines",
         "showlegend": false,
         "type": "scatter3d",
         "x": [
          0,
          0
         ],
         "y": [
          0,
          0
         ],
         "z": [
          0,
          20
         ]
        },
        {
         "line": {
          "color": "lightblue",
          "width": 3
         },
         "mode": "lines",
         "showlegend": false,
         "type": "scatter3d",
         "x": [
          20,
          0
         ],
         "y": [
          0,
          20
         ],
         "z": [
          0,
          0
         ]
        },
        {
         "line": {
          "color": "lightblue",
          "width": 3
         },
         "mode": "lines",
         "showlegend": false,
         "type": "scatter3d",
         "x": [
          0,
          0
         ],
         "y": [
          20,
          0
         ],
         "z": [
          0,
          20
         ]
        },
        {
         "line": {
          "color": "lightblue",
          "width": 3
         },
         "mode": "lines",
         "showlegend": false,
         "type": "scatter3d",
         "x": [
          0,
          20
         ],
         "y": [
          0,
          0
         ],
         "z": [
          20,
          0
         ]
        },
        {
         "line": {
          "color": "blue",
          "width": 2
         },
         "mode": "lines",
         "name": "Plan base",
         "type": "scatter3d",
         "x": {
          "bdata": "FAAAFA==",
          "dtype": "i1"
         },
         "y": {
          "bdata": "ABQAAA==",
          "dtype": "i1"
         },
         "z": {
          "bdata": "AAAUAA==",
          "dtype": "i1"
         }
        },
        {
         "marker": {
          "color": "red",
          "size": 5
         },
         "mode": "markers+text",
         "name": "Point A",
         "text": [
          "A"
         ],
         "textposition": "top center",
         "type": "scatter3d",
         "x": [
          8
         ],
         "y": [
          0
         ],
         "z": [
          0
         ]
        },
        {
         "marker": {
          "color": "orange",
          "size": 5
         },
         "mode": "markers+text",
         "name": "Point B",
         "text": [
          "B"
         ],
         "textposition": "top center",
         "type": "scatter3d",
         "x": [
          0
         ],
         "y": [
          12
         ],
         "z": [
          0
         ]
        },
        {
         "marker": {
          "color": "purple",
          "size": 5
         },
         "mode": "markers+text",
         "name": "Point C",
         "text": [
          "C"
         ],
         "textposition": "top center",
         "type": "scatter3d",
         "x": [
          0
         ],
         "y": [
          0
         ],
         "z": [
          15
         ]
        },
        {
         "line": {
          "color": "black",
          "width": 2
         },
         "mode": "lines",
         "name": "Plan T",
         "type": "scatter3d",
         "x": {
          "bdata": "CAAACA==",
          "dtype": "i1"
         },
         "y": {
          "bdata": "AAwAAA==",
          "dtype": "i1"
         },
         "z": {
          "bdata": "AAAPAA==",
          "dtype": "i1"
         }
        },
        {
         "line": {
          "color": "green",
          "dash": "dash",
          "width": 2
         },
         "mode": "lines",
         "name": "Droite d",
         "type": "scatter3d",
         "x": {
          "bdata": "AAAAAAAA8L8cx3Ecx3HsvzmO4ziO4+i/VlVVVVVV5b9yHMdxHMfhvxzHcRzHcdy/VlVVVVVV1b8gx3Ecx3HMvyDHcRzHcby/AAAAAAAAAAAgx3Ecx3G8PxjHcRzHccw/VFVVVVVV1T8cx3Ecx3HcP3Acx3Ecx+E/VFVVVVVV5T84juM4juPoPxzHcRzHcew/AAAAAAAA8D9yHMdxHMfxP+Q4juM4jvM/VFVVVVVV9T/GcRzHcRz3PziO4ziO4/g/qqqqqqqq+j8cx3Ecx3H8P47jOI7jOP4/AAAAAAAAAEA4juM4juMAQHEcx3EcxwFAqqqqqqqqAkDjOI7jOI4DQBzHcRzHcQRAVVVVVVVVBUCO4ziO4zgGQMdxHMdxHAdAAAAAAAAACEA4juM4juMIQHIcx3EcxwlAqqqqqqqqCkDkOI7jOI4LQBzHcRzHcQxAVFVVVVVVDUCO4ziO4zgOQMZxHMdxHA9AAAAAAAAAEEAcx3Ecx3EQQDmO4ziO4xBAVVVVVVVVEUBxHMdxHMcRQI7jOI7jOBJAqqqqqqqqEkDHcRzHcRwTQOM4juM4jhNAAAAAAAAAFEAcx3Ecx3EUQDiO4ziO4xRAVVVVVVVVFUBxHMdxHMcVQI7jOI7jOBZAqqqqqqqqFkDHcRzHcRwXQOM4juM4jhdAAAAAAAAAGEAcx3Ecx3EYQDiO4ziO4xhAVVVVVVVVGUBxHMdxHMcZQI7jOI7jOBpAqqqqqqqqGkDHcRzHcRwbQOM4juM4jhtAAAAAAAAAHEAcx3Ecx3EcQDiO4ziO4xxAVFVVVVVVHUByHMdxHMcdQI7jOI7jOB5AqqqqqqqqHkDGcRzHcRwfQOQ4juM4jh9AAAAAAAAAIECO4ziO4zggQBzHcRzHcSBAqqqqqqqqIEA5juM4juMgQMdxHMdxHCFAVVVVVVVVIUDjOI7jOI4hQHEcx3EcxyFAAAAAAAAAIkCO4ziO4zgiQBzHcRzHcSJAqqqqqqqqIkA5juM4juMiQMdxHMdxHCNAVVVVVVVVI0DjOI7jOI4jQHEcx3EcxyNAAAAAAAAAJEA=",
          "dtype": "f8"
         },
         "y": {
          "bdata": "AAAAAAAAAMAcx3Ecx3H8vzmO4ziO4/i/VlVVVVVV9b9yHMdxHMfxvxzHcRzHcey/VlVVVVVV5b8gx3Ecx3HcvyDHcRzHccy/AAAAAAAAAAAgx3Ecx3HMPxjHcRzHcdw/VFVVVVVV5T8cx3Ecx3HsP3Acx3Ecx/E/VFVVVVVV9T84juM4juP4PxzHcRzHcfw/AAAAAAAAAEByHMdxHMcBQOQ4juM4jgNAVFVVVVVVBUDGcRzHcRwHQDiO4ziO4whAqqqqqqqqCkAcx3Ecx3EMQI7jOI7jOA5AAAAAAAAAEEA4juM4juMQQHEcx3EcxxFAqqqqqqqqEkDjOI7jOI4TQBzHcRzHcRRAVVVVVVVVFUCO4ziO4zgWQMdxHMdxHBdAAAAAAAAAGEA4juM4juMYQHIcx3EcxxlAqqqqqqqqGkDkOI7jOI4bQBzHcRzHcRxAVFVVVVVVHUCO4ziO4zgeQMZxHMdxHB9AAAAAAAAAIEAcx3Ecx3EgQDmO4ziO4yBAVVVVVVVVIUBxHMdxHMchQI7jOI7jOCJAqqqqqqqqIkDHcRzHcRwjQOM4juM4jiNAAAAAAAAAJEAcx3Ecx3EkQDiO4ziO4yRAVVVVVVVVJUBxHMdxHMclQI7jOI7jOCZAqqqqqqqqJkDHcRzHcRwnQOM4juM4jidAAAAAAAAAKEAcx3Ecx3EoQDiO4ziO4yhAVVVVVVVVKUBxHMdxHMcpQI7jOI7jOCpAqqqqqqqqKkDHcRzHcRwrQOM4juM4jitAAAAAAAAALEAcx3Ecx3EsQDiO4ziO4yxAVFVVVVVVLUByHMdxHMctQI7jOI7jOC5AqqqqqqqqLkDGcRzHcRwvQOQ4juM4ji9AAAAAAAAAMECO4ziO4zgwQBzHcRzHcTBAqqqqqqqqMEA5juM4juMwQMdxHMdxHDFAVVVVVVVVMUDjOI7jOI4xQHEcx3EcxzFAAAAAAAAAMkCO4ziO4zgyQBzHcRzHcTJAqqqqqqqqMkA5juM4juMyQMdxHMdxHDNAVVVVVVVVM0DjOI7jOI4zQHEcx3EcxzNAAAAAAAAANEA=",
          "dtype": "f8"
         },
         "z": {
          "bdata": "AAAAAAAACMBVVVVVVVUFwKuqqqqqqgLAAAAAAAAAAMCrqqqqqqr6v1VVVVVVVfW/AAAAAAAA8L9YVVVVVVXlv1hVVVVVVdW/AAAAAAAAAABYVVVVVVXVP1JVVVVVVeU//v//////7z9VVVVVVVX1P6iqqqqqqvo//v///////z+qqqqqqqoCQFVVVVVVVQVAAAAAAAAACECrqqqqqqoKQFZVVVVVVQ1A/v//////D0BUVVVVVVURQKqqqqqqqhJAAAAAAAAAFEBVVVVVVVUVQKqqqqqqqhZAAAAAAAAAGEBUVVVVVVUZQKqqqqqqqhpA////////G0BUVVVVVVUdQKqqqqqqqh5AAAAAAAAAIECqqqqqqqogQFVVVVVVVSFAAAAAAAAAIkCqqqqqqqoiQFZVVVVVVSNAAAAAAAAAJECrqqqqqqokQFVVVVVVVSVA////////JUCqqqqqqqomQFRVVVVVVSdAAAAAAAAAKECqqqqqqqooQFZVVVVVVSlAAAAAAAAAKkCqqqqqqqoqQFVVVVVVVStA////////K0CqqqqqqqosQFRVVVVVVS1AAAAAAAAALkCqqqqqqqouQFRVVVVVVS9AAAAAAAAAMEBVVVVVVVUwQKqqqqqqqjBAAAAAAAAAMUBVVVVVVVUxQKqqqqqqqjFAAAAAAAAAMkBVVVVVVVUyQKqqqqqqqjJAAAAAAAAAM0BVVVVVVVUzQKqqqqqqqjNAAAAAAAAANEBVVVVVVVU0QKqqqqqqqjRAAAAAAAAANUBVVVVVVVU1QKqqqqqqqjVA////////NUBWVVVVVVU2QKqqqqqqqjZAAAAAAAAAN0BUVVVVVVU3QKuqqqqqqjdAAAAAAAAAOEBVVVVVVVU4QKqqqqqqqjhA////////OEBWVVVVVVU5QKqqqqqqqjlAAAAAAAAAOkBUVVVVVVU6QKqqqqqqqjpAAAAAAAAAO0BVVVVVVVU7QKqqqqqqqjtA////////O0BWVVVVVVU8QKqqqqqqqjxAAAAAAAAAPUBUVVVVVVU9QKqqqqqqqj1AAAAAAAAAPkA=",
          "dtype": "f8"
         }
        },
        {
         "marker": {
          "color": "black",
          "size": 5
         },
         "mode": "markers+text",
         "name": "Intersection I",
         "text": [
          "I"
         ],
         "textposition": "top center",
         "type": "scatter3d",
         "x": [
          2.0338983050847457
         ],
         "y": [
          4.067796610169491
         ],
         "z": [
          6.101694915254237
         ]
        },
        {
         "marker": {
          "color": "green",
          "size": 6
         },
         "mode": "markers+text",
         "name": "Origine O",
         "text": [
          "O"
         ],
         "textposition": "bottom right",
         "type": "scatter3d",
         "x": [
          0
         ],
         "y": [
          0
         ],
         "z": [
          0
         ]
        }
       ],
       "layout": {
        "height": 800,
        "scene": {
         "aspectmode": "cube",
         "xaxis": {
          "title": {
           "text": "MP"
          }
         },
         "yaxis": {
          "title": {
           "text": "PC"
          }
         },
         "zaxis": {
          "title": {
           "text": "PSI"
          }
         }
        },
        "template": {
         "data": {
          "bar": [
           {
            "error_x": {
             "color": "#2a3f5f"
            },
            "error_y": {
             "color": "#2a3f5f"
            },
            "marker": {
             "line": {
              "color": "#E5ECF6",
              "width": 0.5
             },
             "pattern": {
              "fillmode": "overlay",
              "size": 10,
              "solidity": 0.2
             }
            },
            "type": "bar"
           }
          ],
          "barpolar": [
           {
            "marker": {
             "line": {
              "color": "#E5ECF6",
              "width": 0.5
             },
             "pattern": {
              "fillmode": "overlay",
              "size": 10,
              "solidity": 0.2
             }
            },
            "type": "barpolar"
           }
          ],
          "carpet": [
           {
            "aaxis": {
             "endlinecolor": "#2a3f5f",
             "gridcolor": "white",
             "linecolor": "white",
             "minorgridcolor": "white",
             "startlinecolor": "#2a3f5f"
            },
            "baxis": {
             "endlinecolor": "#2a3f5f",
             "gridcolor": "white",
             "linecolor": "white",
             "minorgridcolor": "white",
             "startlinecolor": "#2a3f5f"
            },
            "type": "carpet"
           }
          ],
          "choropleth": [
           {
            "colorbar": {
             "outlinewidth": 0,
             "ticks": ""
            },
            "type": "choropleth"
           }
          ],
          "contour": [
           {
            "colorbar": {
             "outlinewidth": 0,
             "ticks": ""
            },
            "colorscale": [
             [
              0,
              "#0d0887"
             ],
             [
              0.1111111111111111,
              "#46039f"
             ],
             [
              0.2222222222222222,
              "#7201a8"
             ],
             [
              0.3333333333333333,
              "#9c179e"
             ],
             [
              0.4444444444444444,
              "#bd3786"
             ],
             [
              0.5555555555555556,
              "#d8576b"
             ],
             [
              0.6666666666666666,
              "#ed7953"
             ],
             [
              0.7777777777777778,
              "#fb9f3a"
             ],
             [
              0.8888888888888888,
              "#fdca26"
             ],
             [
              1,
              "#f0f921"
             ]
            ],
            "type": "contour"
           }
          ],
          "contourcarpet": [
           {
            "colorbar": {
             "outlinewidth": 0,
             "ticks": ""
            },
            "type": "contourcarpet"
           }
          ],
          "heatmap": [
           {
            "colorbar": {
             "outlinewidth": 0,
             "ticks": ""
            },
            "colorscale": [
             [
              0,
              "#0d0887"
             ],
             [
              0.1111111111111111,
              "#46039f"
             ],
             [
              0.2222222222222222,
              "#7201a8"
             ],
             [
              0.3333333333333333,
              "#9c179e"
             ],
             [
              0.4444444444444444,
              "#bd3786"
             ],
             [
              0.5555555555555556,
              "#d8576b"
             ],
             [
              0.6666666666666666,
              "#ed7953"
             ],
             [
              0.7777777777777778,
              "#fb9f3a"
             ],
             [
              0.8888888888888888,
              "#fdca26"
             ],
             [
              1,
              "#f0f921"
             ]
            ],
            "type": "heatmap"
           }
          ],
          "histogram": [
           {
            "marker": {
             "pattern": {
              "fillmode": "overlay",
              "size": 10,
              "solidity": 0.2
             }
            },
            "type": "histogram"
           }
          ],
          "histogram2d": [
           {
            "colorbar": {
             "outlinewidth": 0,
             "ticks": ""
            },
            "colorscale": [
             [
              0,
              "#0d0887"
             ],
             [
              0.1111111111111111,
              "#46039f"
             ],
             [
              0.2222222222222222,
              "#7201a8"
             ],
             [
              0.3333333333333333,
              "#9c179e"
             ],
             [
              0.4444444444444444,
              "#bd3786"
             ],
             [
              0.5555555555555556,
              "#d8576b"
             ],
             [
              0.6666666666666666,
              "#ed7953"
             ],
             [
              0.7777777777777778,
              "#fb9f3a"
             ],
             [
              0.8888888888888888,
              "#fdca26"
             ],
             [
              1,
              "#f0f921"
             ]
            ],
            "type": "histogram2d"
           }
          ],
          "histogram2dcontour": [
           {
            "colorbar": {
             "outlinewidth": 0,
             "ticks": ""
            },
            "colorscale": [
             [
              0,
              "#0d0887"
             ],
             [
              0.1111111111111111,
              "#46039f"
             ],
             [
              0.2222222222222222,
              "#7201a8"
             ],
             [
              0.3333333333333333,
              "#9c179e"
             ],
             [
              0.4444444444444444,
              "#bd3786"
             ],
             [
              0.5555555555555556,
              "#d8576b"
             ],
             [
              0.6666666666666666,
              "#ed7953"
             ],
             [
              0.7777777777777778,
              "#fb9f3a"
             ],
             [
              0.8888888888888888,
              "#fdca26"
             ],
             [
              1,
              "#f0f921"
             ]
            ],
            "type": "histogram2dcontour"
           }
          ],
          "mesh3d": [
           {
            "colorbar": {
             "outlinewidth": 0,
             "ticks": ""
            },
            "type": "mesh3d"
           }
          ],
          "parcoords": [
           {
            "line": {
             "colorbar": {
              "outlinewidth": 0,
              "ticks": ""
             }
            },
            "type": "parcoords"
           }
          ],
          "pie": [
           {
            "automargin": true,
            "type": "pie"
           }
          ],
          "scatter": [
           {
            "fillpattern": {
             "fillmode": "overlay",
             "size": 10,
             "solidity": 0.2
            },
            "type": "scatter"
           }
          ],
          "scatter3d": [
           {
            "line": {
             "colorbar": {
              "outlinewidth": 0,
              "ticks": ""
             }
            },
            "marker": {
             "colorbar": {
              "outlinewidth": 0,
              "ticks": ""
             }
            },
            "type": "scatter3d"
           }
          ],
          "scattercarpet": [
           {
            "marker": {
             "colorbar": {
              "outlinewidth": 0,
              "ticks": ""
             }
            },
            "type": "scattercarpet"
           }
          ],
          "scattergeo": [
           {
            "marker": {
             "colorbar": {
              "outlinewidth": 0,
              "ticks": ""
             }
            },
            "type": "scattergeo"
           }
          ],
          "scattergl": [
           {
            "marker": {
             "colorbar": {
              "outlinewidth": 0,
              "ticks": ""
             }
            },
            "type": "scattergl"
           }
          ],
          "scattermap": [
           {
            "marker": {
             "colorbar": {
              "outlinewidth": 0,
              "ticks": ""
             }
            },
            "type": "scattermap"
           }
          ],
          "scattermapbox": [
           {
            "marker": {
             "colorbar": {
              "outlinewidth": 0,
              "ticks": ""
             }
            },
            "type": "scattermapbox"
           }
          ],
          "scatterpolar": [
           {
            "marker": {
             "colorbar": {
              "outlinewidth": 0,
              "ticks": ""
             }
            },
            "type": "scatterpolar"
           }
          ],
          "scatterpolargl": [
           {
            "marker": {
             "colorbar": {
              "outlinewidth": 0,
              "ticks": ""
             }
            },
            "type": "scatterpolargl"
           }
          ],
          "scatterternary": [
           {
            "marker": {
             "colorbar": {
              "outlinewidth": 0,
              "ticks": ""
             }
            },
            "type": "scatterternary"
           }
          ],
          "surface": [
           {
            "colorbar": {
             "outlinewidth": 0,
             "ticks": ""
            },
            "colorscale": [
             [
              0,
              "#0d0887"
             ],
             [
              0.1111111111111111,
              "#46039f"
             ],
             [
              0.2222222222222222,
              "#7201a8"
             ],
             [
              0.3333333333333333,
              "#9c179e"
             ],
             [
              0.4444444444444444,
              "#bd3786"
             ],
             [
              0.5555555555555556,
              "#d8576b"
             ],
             [
              0.6666666666666666,
              "#ed7953"
             ],
             [
              0.7777777777777778,
              "#fb9f3a"
             ],
             [
              0.8888888888888888,
              "#fdca26"
             ],
             [
              1,
              "#f0f921"
             ]
            ],
            "type": "surface"
           }
          ],
          "table": [
           {
            "cells": {
             "fill": {
              "color": "#EBF0F8"
             },
             "line": {
              "color": "white"
             }
            },
            "header": {
             "fill": {
              "color": "#C8D4E3"
             },
             "line": {
              "color": "white"
             }
            },
            "type": "table"
           }
          ]
         },
         "layout": {
          "annotationdefaults": {
           "arrowcolor": "#2a3f5f",
           "arrowhead": 0,
           "arrowwidth": 1
          },
          "autotypenumbers": "strict",
          "coloraxis": {
           "colorbar": {
            "outlinewidth": 0,
            "ticks": ""
           }
          },
          "colorscale": {
           "diverging": [
            [
             0,
             "#8e0152"
            ],
            [
             0.1,
             "#c51b7d"
            ],
            [
             0.2,
             "#de77ae"
            ],
            [
             0.3,
             "#f1b6da"
            ],
            [
             0.4,
             "#fde0ef"
            ],
            [
             0.5,
             "#f7f7f7"
            ],
            [
             0.6,
             "#e6f5d0"
            ],
            [
             0.7,
             "#b8e186"
            ],
            [
             0.8,
             "#7fbc41"
            ],
            [
             0.9,
             "#4d9221"
            ],
            [
             1,
             "#276419"
            ]
           ],
           "sequential": [
            [
             0,
             "#0d0887"
            ],
            [
             0.1111111111111111,
             "#46039f"
            ],
            [
             0.2222222222222222,
             "#7201a8"
            ],
            [
             0.3333333333333333,
             "#9c179e"
            ],
            [
             0.4444444444444444,
             "#bd3786"
            ],
            [
             0.5555555555555556,
             "#d8576b"
            ],
            [
             0.6666666666666666,
             "#ed7953"
            ],
            [
             0.7777777777777778,
             "#fb9f3a"
            ],
            [
             0.8888888888888888,
             "#fdca26"
            ],
            [
             1,
             "#f0f921"
            ]
           ],
           "sequentialminus": [
            [
             0,
             "#0d0887"
            ],
            [
             0.1111111111111111,
             "#46039f"
            ],
            [
             0.2222222222222222,
             "#7201a8"
            ],
            [
             0.3333333333333333,
             "#9c179e"
            ],
            [
             0.4444444444444444,
             "#bd3786"
            ],
            [
             0.5555555555555556,
             "#d8576b"
            ],
            [
             0.6666666666666666,
             "#ed7953"
            ],
            [
             0.7777777777777778,
             "#fb9f3a"
            ],
            [
             0.8888888888888888,
             "#fdca26"
            ],
            [
             1,
             "#f0f921"
            ]
           ]
          },
          "colorway": [
           "#636efa",
           "#EF553B",
           "#00cc96",
           "#ab63fa",
           "#FFA15A",
           "#19d3f3",
           "#FF6692",
           "#B6E880",
           "#FF97FF",
           "#FECB52"
          ],
          "font": {
           "color": "#2a3f5f"
          },
          "geo": {
           "bgcolor": "white",
           "lakecolor": "white",
           "landcolor": "#E5ECF6",
           "showlakes": true,
           "showland": true,
           "subunitcolor": "white"
          },
          "hoverlabel": {
           "align": "left"
          },
          "hovermode": "closest",
          "mapbox": {
           "style": "light"
          },
          "paper_bgcolor": "white",
          "plot_bgcolor": "#E5ECF6",
          "polar": {
           "angularaxis": {
            "gridcolor": "white",
            "linecolor": "white",
            "ticks": ""
           },
           "bgcolor": "#E5ECF6",
           "radialaxis": {
            "gridcolor": "white",
            "linecolor": "white",
            "ticks": ""
           }
          },
          "scene": {
           "xaxis": {
            "backgroundcolor": "#E5ECF6",
            "gridcolor": "white",
            "gridwidth": 2,
            "linecolor": "white",
            "showbackground": true,
            "ticks": "",
            "zerolinecolor": "white"
           },
           "yaxis": {
            "backgroundcolor": "#E5ECF6",
            "gridcolor": "white",
            "gridwidth": 2,
            "linecolor": "white",
            "showbackground": true,
            "ticks": "",
            "zerolinecolor": "white"
           },
           "zaxis": {
            "backgroundcolor": "#E5ECF6",
            "gridcolor": "white",
            "gridwidth": 2,
            "linecolor": "white",
            "showbackground": true,
            "ticks": "",
            "zerolinecolor": "white"
           }
          },
          "shapedefaults": {
           "line": {
            "color": "#2a3f5f"
           }
          },
          "ternary": {
           "aaxis": {
            "gridcolor": "white",
            "linecolor": "white",
            "ticks": ""
           },
           "baxis": {
            "gridcolor": "white",
            "linecolor": "white",
            "ticks": ""
           },
           "bgcolor": "#E5ECF6",
           "caxis": {
            "gridcolor": "white",
            "linecolor": "white",
            "ticks": ""
           }
          },
          "title": {
           "x": 0.05
          },
          "xaxis": {
           "automargin": true,
           "gridcolor": "white",
           "linecolor": "white",
           "ticks": "",
           "title": {
            "standoff": 15
           },
           "zerolinecolor": "white",
           "zerolinewidth": 2
          },
          "yaxis": {
           "automargin": true,
           "gridcolor": "white",
           "linecolor": "white",
           "ticks": "",
           "title": {
            "standoff": 15
           },
           "zerolinecolor": "white",
           "zerolinewidth": 2
          }
         }
        },
        "title": {
         "text": "Pyramide-support du raisonnement"
        },
        "width": 900
       }
      }
     },
     "metadata": {},
     "output_type": "display_data"
    }
   ],
   "source": [
    "# Traçage de la pyramide-support\n",
    "import numpy as np\n",
    "import plotly.graph_objects as go\n",
    "import pandas as pd\n",
    "import math\n",
    "\n",
    "# Sommets pyramide\n",
    "MP = np.array([20, 0, 0])\n",
    "PC = np.array([0, 20, 0])\n",
    "PSI = np.array([0, 0, 20])\n",
    "O = np.array([0, 0, 0])  # Point optimal\n",
    "\n",
    "# Points de classement\n",
    "A = np.array([8, 0, 0])\n",
    "B = np.array([0, 12, 0])\n",
    "C = np.array([0, 0, 15])\n",
    "\n",
    "# Direction de la droite d\n",
    "w = np.array([1, 2, 3])\n",
    "\n",
    "# Droite d : O + t*w\n",
    "t_vals = np.linspace(-1, 10, 100)\n",
    "d_points = np.array([t_vals * w[0], t_vals * w[1], t_vals * w[2]])\n",
    "\n",
    "# Plan T : formé par A, B, C\n",
    "# On calcule un point I tel que I ∈ d ∩ plan(A, B, C)\n",
    "AB = B - A\n",
    "AC = C - A\n",
    "n = np.cross(AB, AC)  # vecteur normal au plan T\n",
    "\n",
    "# Produit scalaire entre n et vecteur (I - A) = 0\n",
    "# Soit I = t*w, on veut : <n, t*w - A> = 0 → t = <n, A> / <n, w>\n",
    "numerateur = np.dot(n, A)\n",
    "denominateur = np.dot(n, w)\n",
    "t_I = numerateur / denominateur\n",
    "I = t_I * w\n",
    "\n",
    "fig = go.Figure()\n",
    "\n",
    "# Tracer arêtes pyramide\n",
    "for edge in [[O, MP], [O, PC], [O, PSI], [MP, PC], [PC, PSI], [PSI, MP]]:\n",
    "    fig.add_trace(go.Scatter3d(\n",
    "        x=[edge[0][0], edge[1][0]],\n",
    "        y=[edge[0][1], edge[1][1]],\n",
    "        z=[edge[0][2], edge[1][2]],\n",
    "        mode='lines',\n",
    "        line=dict(color='lightblue', width=3),\n",
    "        showlegend=False\n",
    "    ))\n",
    "\n",
    "# Plan de base (MP-PC-PSI)\n",
    "triangle = np.array([MP, PC, PSI, MP])\n",
    "fig.add_trace(go.Scatter3d(\n",
    "    x=triangle[:, 0],\n",
    "    y=triangle[:, 1],\n",
    "    z=triangle[:, 2],\n",
    "    mode='lines',\n",
    "    line=dict(color='blue', width=2),\n",
    "    name='Plan base'\n",
    "))\n",
    "\n",
    "# Points A, B, C\n",
    "for pt, name, color in zip([A, B, C], [\"A\", \"B\", \"C\"], [\"red\", \"orange\", \"purple\"]):\n",
    "    fig.add_trace(go.Scatter3d(\n",
    "        x=[pt[0]], y=[pt[1]], z=[pt[2]],\n",
    "        mode='markers+text',\n",
    "        marker=dict(size=5, color=color),\n",
    "        text=[name],\n",
    "        textposition=\"top center\",\n",
    "        name=f\"Point {name}\"\n",
    "    ))\n",
    "\n",
    "# Plan T (triangle ABC)\n",
    "T_triangle = np.array([A, B, C, A])\n",
    "fig.add_trace(go.Scatter3d(\n",
    "    x=T_triangle[:, 0],\n",
    "    y=T_triangle[:, 1],\n",
    "    z=T_triangle[:, 2],\n",
    "    mode='lines',\n",
    "    line=dict(color='black', width=2),\n",
    "    name='Plan T'\n",
    "))\n",
    "\n",
    "# Droite d\n",
    "fig.add_trace(go.Scatter3d(\n",
    "    x=d_points[0], y=d_points[1], z=d_points[2],\n",
    "    mode='lines',\n",
    "    line=dict(color='green', width=2, dash='dash'),\n",
    "    name=\"Droite d\"\n",
    "))\n",
    "\n",
    "# Point I (intersection)\n",
    "fig.add_trace(go.Scatter3d(\n",
    "    x=[I[0]], y=[I[1]], z=[I[2]],\n",
    "    mode='markers+text',\n",
    "    marker=dict(size=5, color='black'),\n",
    "    text=[\"I\"],\n",
    "    textposition=\"top center\",\n",
    "    name=\"Intersection I\"\n",
    "))\n",
    "\n",
    "# Point O\n",
    "fig.add_trace(go.Scatter3d(\n",
    "    x=[0], y=[0], z=[0],\n",
    "    mode='markers+text',\n",
    "    marker=dict(size=6, color='green'),\n",
    "    text=[\"O\"],\n",
    "    textposition=\"bottom right\",\n",
    "    name=\"Origine O\"\n",
    "))\n",
    "\n",
    "fig.update_layout(\n",
    "    scene=dict(\n",
    "        xaxis_title='MP',\n",
    "        yaxis_title='PC',\n",
    "        zaxis_title='PSI',\n",
    "        aspectmode='cube'\n",
    "    ),\n",
    "    title=\"Pyramide-support du raisonnement\",\n",
    "    width=900,\n",
    "    height=800\n",
    ")\n",
    "\n",
    "fig.show()\n"
   ]
  },
  {
   "cell_type": "markdown",
   "id": "056ef349",
   "metadata": {},
   "source": [
    "### 2. Synthèse mathématique de la distance $f$"
   ]
  },
  {
   "cell_type": "markdown",
   "id": "a43c65e5",
   "metadata": {},
   "source": [
    "#### 2.1. Equation du plan $T$\n",
    "\n",
    "On a $A(x_{A};0;0)$, $B(0;y_{B};0)$ et $C(0;0;z_{C})$\n",
    "\n",
    "Donc : $\\overrightarrow{AB}\\begin{pmatrix}0-x_{A}\\\\y_{B}-0\\\\0-0\\end{pmatrix}\\overrightarrow{AB}\\begin{pmatrix}-x_{A}\\\\y_{B}\\\\z_{C}\\end{pmatrix}$ et $\\overrightarrow{AC}\\begin{pmatrix}0-x_{A}\\\\0-0\\\\z_{C}-0\\end{pmatrix}\\overrightarrow{AC}\\begin{pmatrix}-x_{A}\\\\0\\\\z_{C}\\end{pmatrix}$\n",
    "\n",
    "On a posé que $\\vec{n}\\begin{pmatrix}a\\\\b\\\\c\\end{pmatrix}\\perp T$ et $\\overrightarrow{AB}$ et $\\overrightarrow{AC}$ ne sont pas colinéaires puisqu'une des coordonnées est nulle.\n",
    "Donc :\n",
    "\n",
    "$$\n",
    "\\begin{align}\n",
    "\\vec{n}\\begin{pmatrix}a\\\\b\\\\c\\end{pmatrix}\\perp T &\\implies \n",
    "\\begin{cases}\n",
    "\\vec{n}\\perp \\overrightarrow{AB} \\\\ \\\\\n",
    "\\vec{n}\\perp \\overrightarrow{AC}\n",
    "\\end{cases}  \\implies \\begin{cases}\n",
    "\\vec{n}\\cdot \\overrightarrow{AB}=0 \\\\ \\\\\n",
    "\\vec{n}\\cdot \\overrightarrow{AC}=0\n",
    "\\end{cases} \\\\\n",
    " \\\\\n",
    "&\\implies \\begin{cases}\n",
    "-ax_{A}+by_{B}+0\\times0=0 \\\\\n",
    "-ax_{A}+0\\times0+cz_{C}=0\n",
    "\\end{cases} \\implies \\begin{cases}\n",
    "ax_{A}=by_{B} \\\\\n",
    "ax_{A}=cz_{C}\n",
    "\\end{cases} \\\\\n",
    " \\\\\n",
    "\\vec{n}\\begin{pmatrix}a\\\\b\\\\c\\end{pmatrix}\\perp T &\\implies \\begin{cases}\n",
    "b=a\\frac{x_{A}}{y_{B}} \\\\\n",
    "c=a\\frac{x_{A}}{z_{C}}\n",
    "\\end{cases}\n",
    "\\end{align}\n",
    "$$\n",
    "\n",
    "Donc en posant $a=1$ on obtient : $\\vec{n}\\begin{pmatrix}1\\\\ \\frac{x_{A}}{y_{B}} \\\\ \\frac{x_{A}}{z_{C}} \\end{pmatrix}$\n",
    "\n",
    "Ainsi, $T:x+ \\frac{x_{A}}{y_{B}}y+\\frac{x_{A}}{z_{C}}z+d=0$\n",
    "Or $A(x_{A};0;0) \\in T$ donc ses coordonnées vérifient $T$ :\n",
    "$$x_{A}+\\frac{x_{A}}{y_{B}}\\times0+\\frac{x_{A}}{z_{C}}\\times0+d=0\\implies d=-x_{A}$$\n",
    "\n",
    "Donc finalement : $$T:x+\\frac{x_{A}}{y_{B}}y+\\frac{x_{A}}{z_{C}}z-x_{A}=0$$\n",
    "#### 2.2. Equations paramétriques de la droite $d$\n",
    "\n",
    "On a posé que la droite $d$ possède un vecteur directeur $\\vec{u}\\begin{pmatrix}\\lambda_{A} \\\\\\lambda_{B}\\\\\\lambda_{C}\\end{pmatrix}$\n",
    "Donc ses équations paramétriques sont :\n",
    "\n",
    "$$d:\\begin{cases}\n",
    "x=\\lambda_{A}\\cdot t \\\\\n",
    "y=\\lambda_{B}\\cdot t \\\\\n",
    "z=\\lambda_{C}\\cdot t\n",
    "\\end{cases}, \\quad t\\in \\mathbb{R}$$\n",
    "#### 2.3. Intersection de $T$ et $d$\n",
    "\n",
    "Les coordonnées du point $I$ vérifient l'équation du plan $T$ *et* les équations paramétriques de $d$ :\n",
    "\n",
    "$$\\begin{cases}\n",
    "x=\\lambda_{A}\\cdot t \\\\\n",
    "y=\\lambda_{B}\\cdot t \\\\\n",
    "z=\\lambda_{C}\\cdot t \\\\\n",
    "x+\\frac{x_{A}}{y_{B}}y+\\frac{x_{A}}{z_{C}}z-x_{A}=0\n",
    "\\end{cases}$$\n",
    "On remplace les équations paramétriques dans celle du plan, et on résout pour $t$ :\n",
    "\n",
    "$$\n",
    "\\lambda_{A}t+\\frac{x_{A}}{y_{B}}\\lambda_{B}t+\\frac{x_{A}}{z_{C}}\\lambda_{C}t-x_{A}=0 \\implies t\\left( \\lambda_{A}+\\frac{x_{A}}{y_{B}}\\lambda_{B}+\\frac{x_{A}}{z_{C}}\\lambda_{C} \\right)=x_{A}\n",
    "$$\n",
    "Donc : $$t=\\frac{x_{A}}{\\lambda_{A}+\\frac{x_{A}}{y_{B}}\\lambda_{B}+\\frac{x_{A}}{z_{C}}\\lambda_{C}}$$\n",
    "Il suffit ensuite de remplacer dans les les équations paramétriques, et on trouve :\n",
    "\n",
    "$$x_{I}=\\frac{x_{A}}{\\lambda_{A}+\\frac{x_{A}}{y_{B}}\\lambda_{B}+\\frac{x_{A}}{z_{C}}\\lambda_{C}}\\cdot\\lambda_{A} \\quad\\text{et}\\quad y_{I}=\\frac{x_{A}}{\\lambda_{A}+\\frac{x_{A}}{y_{B}}\\lambda_{B}+\\frac{x_{A}}{z_{C}}\\lambda_{C}}\\cdot\\lambda_{B} \\quad\\text{et}\\quad z_{I}=\\frac{x_{A}}{\\lambda_{A}+\\frac{x_{A}}{y_{B}}\\lambda_{B}+\\frac{x_{A}}{z_{C}}\\lambda_{C}}\\cdot\\lambda_{C}$$\n",
    "\n",
    "#### 2.4. Distance $f=OI$\n",
    "\n",
    "On utilise une simple distance euclidienne :\n",
    "\n",
    "$$\\begin{align}\n",
    "f&=\\sqrt{ x_{I}^2+y_{I}^2+z_{I}^2 } \\\\\n",
    "&=\\sqrt{ (\\lambda_{A}t)^2+(\\lambda_{B}t)^2+(\\lambda_{C}t)^2 } \\\\\n",
    "&=\\sqrt{ t^2(\\lambda_{A}^2+\\lambda_{B}^2+\\lambda_{C}^2) } \\\\\n",
    "f&=t\\cdot \\sqrt{ \\lambda_{A}^2+\\lambda_{B}^2+\\lambda_{C}^2 }\n",
    "\\end{align}$$\n",
    "\n",
    "Ainsi, finalement, à partir de 6 paramètres d'entrée ($x_{A}$, $y_{B}$, $z_{C}$, $\\lambda_{A}$, $\\lambda_{B}$ et $\\lambda_{C}$), on obtient un score final, où tous les paramètres sont pris en compte :\n",
    "\n",
    "$$f=\\frac{x_{A}\\cdot\\sqrt{ \\lambda_{A}^2+\\lambda_{B}^2+\\lambda_{C}^2}}{\\lambda_{A}+\\frac{x_{A}}{y_{B}}\\lambda_{B}+\\frac{x_{A}}{z_{C}}\\lambda_{C}}$$\n"
   ]
  },
  {
   "cell_type": "markdown",
   "id": "84c3fa2c",
   "metadata": {},
   "source": [
    "Commençons par définir un classement exemple :"
   ]
  },
  {
   "cell_type": "markdown",
   "id": "da800089",
   "metadata": {},
   "source": [
    "### 3. Avec un ensemble de points"
   ]
  },
  {
   "cell_type": "markdown",
   "id": "1475aad5",
   "metadata": {},
   "source": [
    "On renseigne les pondérations et la liste des rangs (ici générérés programmatiquement)"
   ]
  },
  {
   "cell_type": "code",
   "execution_count": 51,
   "id": "f4bd732c",
   "metadata": {},
   "outputs": [],
   "source": [
    "pond = {\n",
    "    'A': 0.8,\n",
    "    'B': 0.15,\n",
    "    'C': 0.05\n",
    "}\n",
    "rangs = np.array([[i, (i + 1) % 20 + 1, (i + 2) % 20 + 1] for i in range(1, 21)])"
   ]
  },
  {
   "cell_type": "code",
   "execution_count": null,
   "id": "8319c7c4",
   "metadata": {},
   "outputs": [
    {
     "data": {
      "application/vnd.microsoft.datawrangler.viewer.v0+json": {
       "columns": [
        {
         "name": "index",
         "rawType": "int64",
         "type": "integer"
        },
        {
         "name": "xA",
         "rawType": "int64",
         "type": "integer"
        },
        {
         "name": "yB",
         "rawType": "int64",
         "type": "integer"
        },
        {
         "name": "zC",
         "rawType": "int64",
         "type": "integer"
        }
       ],
       "conversionMethod": "pd.DataFrame",
       "ref": "e217ac95-7fa3-4523-9f96-5255a61a69f1",
       "rows": [
        [
         "0",
         "1",
         "3",
         "4"
        ],
        [
         "1",
         "2",
         "4",
         "5"
        ],
        [
         "2",
         "3",
         "5",
         "6"
        ],
        [
         "3",
         "4",
         "6",
         "7"
        ],
        [
         "4",
         "5",
         "7",
         "8"
        ],
        [
         "5",
         "6",
         "8",
         "9"
        ],
        [
         "6",
         "7",
         "9",
         "10"
        ],
        [
         "7",
         "8",
         "10",
         "11"
        ],
        [
         "8",
         "9",
         "11",
         "12"
        ],
        [
         "9",
         "10",
         "12",
         "13"
        ],
        [
         "10",
         "11",
         "13",
         "14"
        ],
        [
         "11",
         "12",
         "14",
         "15"
        ],
        [
         "12",
         "13",
         "15",
         "16"
        ],
        [
         "13",
         "14",
         "16",
         "17"
        ],
        [
         "14",
         "15",
         "17",
         "18"
        ],
        [
         "15",
         "16",
         "18",
         "19"
        ],
        [
         "16",
         "17",
         "19",
         "20"
        ],
        [
         "17",
         "18",
         "20",
         "1"
        ],
        [
         "18",
         "19",
         "1",
         "2"
        ],
        [
         "19",
         "20",
         "2",
         "3"
        ]
       ],
       "shape": {
        "columns": 3,
        "rows": 20
       }
      },
      "text/html": [
       "<div>\n",
       "<style scoped>\n",
       "    .dataframe tbody tr th:only-of-type {\n",
       "        vertical-align: middle;\n",
       "    }\n",
       "\n",
       "    .dataframe tbody tr th {\n",
       "        vertical-align: top;\n",
       "    }\n",
       "\n",
       "    .dataframe thead th {\n",
       "        text-align: right;\n",
       "    }\n",
       "</style>\n",
       "<table border=\"1\" class=\"dataframe\">\n",
       "  <thead>\n",
       "    <tr style=\"text-align: right;\">\n",
       "      <th></th>\n",
       "      <th>xA</th>\n",
       "      <th>yB</th>\n",
       "      <th>zC</th>\n",
       "    </tr>\n",
       "  </thead>\n",
       "  <tbody>\n",
       "    <tr>\n",
       "      <th>0</th>\n",
       "      <td>1</td>\n",
       "      <td>3</td>\n",
       "      <td>4</td>\n",
       "    </tr>\n",
       "    <tr>\n",
       "      <th>1</th>\n",
       "      <td>2</td>\n",
       "      <td>4</td>\n",
       "      <td>5</td>\n",
       "    </tr>\n",
       "    <tr>\n",
       "      <th>2</th>\n",
       "      <td>3</td>\n",
       "      <td>5</td>\n",
       "      <td>6</td>\n",
       "    </tr>\n",
       "    <tr>\n",
       "      <th>3</th>\n",
       "      <td>4</td>\n",
       "      <td>6</td>\n",
       "      <td>7</td>\n",
       "    </tr>\n",
       "    <tr>\n",
       "      <th>4</th>\n",
       "      <td>5</td>\n",
       "      <td>7</td>\n",
       "      <td>8</td>\n",
       "    </tr>\n",
       "    <tr>\n",
       "      <th>5</th>\n",
       "      <td>6</td>\n",
       "      <td>8</td>\n",
       "      <td>9</td>\n",
       "    </tr>\n",
       "    <tr>\n",
       "      <th>6</th>\n",
       "      <td>7</td>\n",
       "      <td>9</td>\n",
       "      <td>10</td>\n",
       "    </tr>\n",
       "    <tr>\n",
       "      <th>7</th>\n",
       "      <td>8</td>\n",
       "      <td>10</td>\n",
       "      <td>11</td>\n",
       "    </tr>\n",
       "    <tr>\n",
       "      <th>8</th>\n",
       "      <td>9</td>\n",
       "      <td>11</td>\n",
       "      <td>12</td>\n",
       "    </tr>\n",
       "    <tr>\n",
       "      <th>9</th>\n",
       "      <td>10</td>\n",
       "      <td>12</td>\n",
       "      <td>13</td>\n",
       "    </tr>\n",
       "    <tr>\n",
       "      <th>10</th>\n",
       "      <td>11</td>\n",
       "      <td>13</td>\n",
       "      <td>14</td>\n",
       "    </tr>\n",
       "    <tr>\n",
       "      <th>11</th>\n",
       "      <td>12</td>\n",
       "      <td>14</td>\n",
       "      <td>15</td>\n",
       "    </tr>\n",
       "    <tr>\n",
       "      <th>12</th>\n",
       "      <td>13</td>\n",
       "      <td>15</td>\n",
       "      <td>16</td>\n",
       "    </tr>\n",
       "    <tr>\n",
       "      <th>13</th>\n",
       "      <td>14</td>\n",
       "      <td>16</td>\n",
       "      <td>17</td>\n",
       "    </tr>\n",
       "    <tr>\n",
       "      <th>14</th>\n",
       "      <td>15</td>\n",
       "      <td>17</td>\n",
       "      <td>18</td>\n",
       "    </tr>\n",
       "    <tr>\n",
       "      <th>15</th>\n",
       "      <td>16</td>\n",
       "      <td>18</td>\n",
       "      <td>19</td>\n",
       "    </tr>\n",
       "    <tr>\n",
       "      <th>16</th>\n",
       "      <td>17</td>\n",
       "      <td>19</td>\n",
       "      <td>20</td>\n",
       "    </tr>\n",
       "    <tr>\n",
       "      <th>17</th>\n",
       "      <td>18</td>\n",
       "      <td>20</td>\n",
       "      <td>1</td>\n",
       "    </tr>\n",
       "    <tr>\n",
       "      <th>18</th>\n",
       "      <td>19</td>\n",
       "      <td>1</td>\n",
       "      <td>2</td>\n",
       "    </tr>\n",
       "    <tr>\n",
       "      <th>19</th>\n",
       "      <td>20</td>\n",
       "      <td>2</td>\n",
       "      <td>3</td>\n",
       "    </tr>\n",
       "  </tbody>\n",
       "</table>\n",
       "</div>"
      ],
      "text/plain": [
       "    xA  yB  zC\n",
       "0    1   3   4\n",
       "1    2   4   5\n",
       "2    3   5   6\n",
       "3    4   6   7\n",
       "4    5   7   8\n",
       "5    6   8   9\n",
       "6    7   9  10\n",
       "7    8  10  11\n",
       "8    9  11  12\n",
       "9   10  12  13\n",
       "10  11  13  14\n",
       "11  12  14  15\n",
       "12  13  15  16\n",
       "13  14  16  17\n",
       "14  15  17  18\n",
       "15  16  18  19\n",
       "16  17  19  20\n",
       "17  18  20   1\n",
       "18  19   1   2\n",
       "19  20   2   3"
      ]
     },
     "execution_count": 52,
     "metadata": {},
     "output_type": "execute_result"
    }
   ],
   "source": [
    "df = pd.DataFrame(rangs, columns=[['x','y','z'][list(dict.keys(pond)).index(label)] + label for label in list(dict.keys(pond))])\n",
    "df"
   ]
  },
  {
   "cell_type": "code",
   "execution_count": 54,
   "id": "97221103",
   "metadata": {},
   "outputs": [],
   "source": [
    "df['t'] = df['xA']/(pond['A']+(df['xA']/df['yB'])*pond['B']+(df['xA']/df['yB'])*pond['C'])\n",
    "df['xI'] = df['t']*pond['A']\n",
    "df['yI'] = df['t']*pond['B']\n",
    "df['zI'] = df['t']*pond['C']\n",
    "df['f'] = np.sqrt(df['xI']**2+df['yI']**2+df['zI']**2)"
   ]
  },
  {
   "cell_type": "code",
   "execution_count": 56,
   "id": "2f2ddb3b",
   "metadata": {},
   "outputs": [
    {
     "data": {
      "application/vnd.microsoft.datawrangler.viewer.v0+json": {
       "columns": [
        {
         "name": "index",
         "rawType": "int64",
         "type": "integer"
        },
        {
         "name": "xA",
         "rawType": "int64",
         "type": "integer"
        },
        {
         "name": "yB",
         "rawType": "int64",
         "type": "integer"
        },
        {
         "name": "zC",
         "rawType": "int64",
         "type": "integer"
        },
        {
         "name": "f",
         "rawType": "float64",
         "type": "float"
        }
       ],
       "conversionMethod": "pd.DataFrame",
       "ref": "b91b96f1-2487-4258-8502-0c1848e40f74",
       "rows": [
        [
         "0",
         "1",
         "3",
         "4",
         "0.9409330632865436"
        ],
        [
         "1",
         "2",
         "4",
         "5",
         "1.8121673811444545"
        ],
        [
         "2",
         "3",
         "5",
         "6",
         "2.659158657114145"
        ],
        [
         "18",
         "19",
         "1",
         "2",
         "3.3682676323445837"
        ],
        [
         "3",
         "4",
         "6",
         "7",
         "3.4948942350643053"
        ],
        [
         "4",
         "5",
         "7",
         "8",
         "4.324490341367448"
        ],
        [
         "5",
         "6",
         "8",
         "9",
         "5.150370451673713"
        ],
        [
         "19",
         "20",
         "2",
         "3",
         "5.824823725107176"
        ],
        [
         "6",
         "7",
         "9",
         "10",
         "5.973830843656428"
        ],
        [
         "7",
         "8",
         "10",
         "11",
         "6.795627679291704"
        ],
        [
         "8",
         "9",
         "11",
         "12",
         "7.616231776413723"
        ],
        [
         "9",
         "10",
         "12",
         "13",
         "8.435951601879358"
        ],
        [
         "10",
         "11",
         "13",
         "14",
         "9.25499769655918"
        ],
        [
         "11",
         "12",
         "14",
         "15",
         "10.07351867753829"
        ],
        [
         "12",
         "13",
         "15",
         "16",
         "10.891622444892183"
        ],
        [
         "13",
         "14",
         "16",
         "17",
         "11.709389232010322"
        ],
        [
         "14",
         "15",
         "17",
         "18",
         "12.526879938935311"
        ],
        [
         "15",
         "16",
         "18",
         "19",
         "13.344141624790984"
        ],
        [
         "16",
         "17",
         "19",
         "20",
         "14.161211228459484"
        ],
        [
         "17",
         "18",
         "20",
         "1",
         "14.978118150275591"
        ]
       ],
       "shape": {
        "columns": 4,
        "rows": 20
       }
      },
      "text/html": [
       "<div>\n",
       "<style scoped>\n",
       "    .dataframe tbody tr th:only-of-type {\n",
       "        vertical-align: middle;\n",
       "    }\n",
       "\n",
       "    .dataframe tbody tr th {\n",
       "        vertical-align: top;\n",
       "    }\n",
       "\n",
       "    .dataframe thead th {\n",
       "        text-align: right;\n",
       "    }\n",
       "</style>\n",
       "<table border=\"1\" class=\"dataframe\">\n",
       "  <thead>\n",
       "    <tr style=\"text-align: right;\">\n",
       "      <th></th>\n",
       "      <th>xA</th>\n",
       "      <th>yB</th>\n",
       "      <th>zC</th>\n",
       "      <th>f</th>\n",
       "    </tr>\n",
       "  </thead>\n",
       "  <tbody>\n",
       "    <tr>\n",
       "      <th>0</th>\n",
       "      <td>1</td>\n",
       "      <td>3</td>\n",
       "      <td>4</td>\n",
       "      <td>0.940933</td>\n",
       "    </tr>\n",
       "    <tr>\n",
       "      <th>1</th>\n",
       "      <td>2</td>\n",
       "      <td>4</td>\n",
       "      <td>5</td>\n",
       "      <td>1.812167</td>\n",
       "    </tr>\n",
       "    <tr>\n",
       "      <th>2</th>\n",
       "      <td>3</td>\n",
       "      <td>5</td>\n",
       "      <td>6</td>\n",
       "      <td>2.659159</td>\n",
       "    </tr>\n",
       "    <tr>\n",
       "      <th>18</th>\n",
       "      <td>19</td>\n",
       "      <td>1</td>\n",
       "      <td>2</td>\n",
       "      <td>3.368268</td>\n",
       "    </tr>\n",
       "    <tr>\n",
       "      <th>3</th>\n",
       "      <td>4</td>\n",
       "      <td>6</td>\n",
       "      <td>7</td>\n",
       "      <td>3.494894</td>\n",
       "    </tr>\n",
       "    <tr>\n",
       "      <th>4</th>\n",
       "      <td>5</td>\n",
       "      <td>7</td>\n",
       "      <td>8</td>\n",
       "      <td>4.324490</td>\n",
       "    </tr>\n",
       "    <tr>\n",
       "      <th>5</th>\n",
       "      <td>6</td>\n",
       "      <td>8</td>\n",
       "      <td>9</td>\n",
       "      <td>5.150370</td>\n",
       "    </tr>\n",
       "    <tr>\n",
       "      <th>19</th>\n",
       "      <td>20</td>\n",
       "      <td>2</td>\n",
       "      <td>3</td>\n",
       "      <td>5.824824</td>\n",
       "    </tr>\n",
       "    <tr>\n",
       "      <th>6</th>\n",
       "      <td>7</td>\n",
       "      <td>9</td>\n",
       "      <td>10</td>\n",
       "      <td>5.973831</td>\n",
       "    </tr>\n",
       "    <tr>\n",
       "      <th>7</th>\n",
       "      <td>8</td>\n",
       "      <td>10</td>\n",
       "      <td>11</td>\n",
       "      <td>6.795628</td>\n",
       "    </tr>\n",
       "    <tr>\n",
       "      <th>8</th>\n",
       "      <td>9</td>\n",
       "      <td>11</td>\n",
       "      <td>12</td>\n",
       "      <td>7.616232</td>\n",
       "    </tr>\n",
       "    <tr>\n",
       "      <th>9</th>\n",
       "      <td>10</td>\n",
       "      <td>12</td>\n",
       "      <td>13</td>\n",
       "      <td>8.435952</td>\n",
       "    </tr>\n",
       "    <tr>\n",
       "      <th>10</th>\n",
       "      <td>11</td>\n",
       "      <td>13</td>\n",
       "      <td>14</td>\n",
       "      <td>9.254998</td>\n",
       "    </tr>\n",
       "    <tr>\n",
       "      <th>11</th>\n",
       "      <td>12</td>\n",
       "      <td>14</td>\n",
       "      <td>15</td>\n",
       "      <td>10.073519</td>\n",
       "    </tr>\n",
       "    <tr>\n",
       "      <th>12</th>\n",
       "      <td>13</td>\n",
       "      <td>15</td>\n",
       "      <td>16</td>\n",
       "      <td>10.891622</td>\n",
       "    </tr>\n",
       "    <tr>\n",
       "      <th>13</th>\n",
       "      <td>14</td>\n",
       "      <td>16</td>\n",
       "      <td>17</td>\n",
       "      <td>11.709389</td>\n",
       "    </tr>\n",
       "    <tr>\n",
       "      <th>14</th>\n",
       "      <td>15</td>\n",
       "      <td>17</td>\n",
       "      <td>18</td>\n",
       "      <td>12.526880</td>\n",
       "    </tr>\n",
       "    <tr>\n",
       "      <th>15</th>\n",
       "      <td>16</td>\n",
       "      <td>18</td>\n",
       "      <td>19</td>\n",
       "      <td>13.344142</td>\n",
       "    </tr>\n",
       "    <tr>\n",
       "      <th>16</th>\n",
       "      <td>17</td>\n",
       "      <td>19</td>\n",
       "      <td>20</td>\n",
       "      <td>14.161211</td>\n",
       "    </tr>\n",
       "    <tr>\n",
       "      <th>17</th>\n",
       "      <td>18</td>\n",
       "      <td>20</td>\n",
       "      <td>1</td>\n",
       "      <td>14.978118</td>\n",
       "    </tr>\n",
       "  </tbody>\n",
       "</table>\n",
       "</div>"
      ],
      "text/plain": [
       "    xA  yB  zC          f\n",
       "0    1   3   4   0.940933\n",
       "1    2   4   5   1.812167\n",
       "2    3   5   6   2.659159\n",
       "18  19   1   2   3.368268\n",
       "3    4   6   7   3.494894\n",
       "4    5   7   8   4.324490\n",
       "5    6   8   9   5.150370\n",
       "19  20   2   3   5.824824\n",
       "6    7   9  10   5.973831\n",
       "7    8  10  11   6.795628\n",
       "8    9  11  12   7.616232\n",
       "9   10  12  13   8.435952\n",
       "10  11  13  14   9.254998\n",
       "11  12  14  15  10.073519\n",
       "12  13  15  16  10.891622\n",
       "13  14  16  17  11.709389\n",
       "14  15  17  18  12.526880\n",
       "15  16  18  19  13.344142\n",
       "16  17  19  20  14.161211\n",
       "17  18  20   1  14.978118"
      ]
     },
     "execution_count": 56,
     "metadata": {},
     "output_type": "execute_result"
    }
   ],
   "source": [
    "df.sort_values(by='f', ascending=True, inplace=True)\n",
    "df.drop(columns=['t', 'xI', 'yI', 'zI'], inplace=True)\n",
    "df"
   ]
  }
 ],
 "metadata": {
  "kernelspec": {
   "display_name": ".venv",
   "language": "python",
   "name": "python3"
  },
  "language_info": {
   "codemirror_mode": {
    "name": "ipython",
    "version": 3
   },
   "file_extension": ".py",
   "mimetype": "text/x-python",
   "name": "python",
   "nbconvert_exporter": "python",
   "pygments_lexer": "ipython3",
   "version": "3.12.4"
  }
 },
 "nbformat": 4,
 "nbformat_minor": 5
}
